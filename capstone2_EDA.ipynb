{
 "cells": [
  {
   "cell_type": "markdown",
   "id": "b9894188",
   "metadata": {},
   "source": [
    "1. Import and review data  \n",
    "        1.1 Import packages and data  \n",
    "        1.2 Overview of data\n",
    "2. Graph data"
   ]
  },
  {
   "cell_type": "markdown",
   "id": "7fc84b6e",
   "metadata": {},
   "source": [
    "1.1: Import packages and data"
   ]
  },
  {
   "cell_type": "code",
   "execution_count": null,
   "id": "6a61ec32",
   "metadata": {},
   "outputs": [],
   "source": [
    "import pandas as pd\n",
    "import numpy as np\n",
    "import os\n",
    "import matplotlib.pyplot as plt\n",
    "import seaborn as sns"
   ]
  },
  {
   "cell_type": "code",
   "execution_count": null,
   "id": "a2249ac2",
   "metadata": {},
   "outputs": [],
   "source": [
    "os.chdir('C:/Users/steve/Documents/springboard/Capstone2/data')\n",
    "cwd = os.getcwd()\n",
    "print(cwd)"
   ]
  },
  {
   "cell_type": "code",
   "execution_count": null,
   "id": "75689181",
   "metadata": {},
   "outputs": [],
   "source": [
    "#import data\n",
    "fi = pd.read_csv('clean_2018.csv')"
   ]
  },
  {
   "cell_type": "markdown",
   "id": "02ef9b30",
   "metadata": {},
   "source": [
    "1.2: Overview of data  \n",
    "    Use .head() and .info() to get an overview of the data"
   ]
  },
  {
   "cell_type": "code",
   "execution_count": null,
   "id": "b7223456",
   "metadata": {},
   "outputs": [],
   "source": [
    "fi.head()"
   ]
  },
  {
   "cell_type": "code",
   "execution_count": null,
   "id": "e3422334",
   "metadata": {},
   "outputs": [],
   "source": [
    "fi.info(show_counts=True)"
   ]
  },
  {
   "cell_type": "code",
   "execution_count": null,
   "id": "03f6c1dc",
   "metadata": {},
   "outputs": [],
   "source": [
    "fi['Delayed_or_Cancelled'].value_counts()"
   ]
  },
  {
   "cell_type": "markdown",
   "id": "26fc481b",
   "metadata": {},
   "source": [
    "2: Graph data"
   ]
  },
  {
   "cell_type": "code",
   "execution_count": null,
   "id": "7c9b5484",
   "metadata": {},
   "outputs": [],
   "source": [
    "#graph number of delayed/cancelled flights per airline\n",
    "airlinefeat = sorted(fi['Airline'].unique())\n",
    "\n",
    "sns.catplot(x='Airline', data=fi, kind='count', hue='Delayed_or_Cancelled', order = airlinefeat, aspect=2)\n",
    "plt.ticklabel_format(style='plain', axis='y')\n",
    "plt.xlabel('Airline')\n",
    "plt.ylabel('Number of flights')\n",
    "plt.title('Number of flights per airline')\n",
    "plt.show()"
   ]
  },
  {
   "cell_type": "code",
   "execution_count": null,
   "id": "5042bfbb",
   "metadata": {},
   "outputs": [],
   "source": [
    "#graph number of delayed/cancelled flights per Origin location\n",
    "originfeat = sorted(fi['Origin_State'].unique())\n",
    "\n",
    "sns.catplot(x='Origin_State', data=fi, kind='count', hue='Delayed_or_Cancelled', order=originfeat, aspect=2)\n",
    "plt.xticks(rotation='vertical')\n",
    "plt.xlabel('Origin')\n",
    "plt.ylabel('Number of flights')\n",
    "plt.title('Number of flights per Origin')\n",
    "plt.show()"
   ]
  },
  {
   "cell_type": "code",
   "execution_count": null,
   "id": "eb9f499a",
   "metadata": {},
   "outputs": [],
   "source": [
    "#graph number of delayed/cancelled flights per Month\n",
    "sns.catplot(x='month', data=fi, kind='count', hue='Delayed_or_Cancelled')\n",
    "plt.xlabel('Month')\n",
    "plt.ylabel('Number of flights')\n",
    "plt.title('Number of flights per Month')\n",
    "plt.show()"
   ]
  },
  {
   "cell_type": "code",
   "execution_count": 1,
   "id": "d3e554b6",
   "metadata": {},
   "outputs": [
    {
     "ename": "NameError",
     "evalue": "name 'fi' is not defined",
     "output_type": "error",
     "traceback": [
      "\u001b[1;31m---------------------------------------------------------------------------\u001b[0m",
      "\u001b[1;31mNameError\u001b[0m                                 Traceback (most recent call last)",
      "Cell \u001b[1;32mIn[1], line 2\u001b[0m\n\u001b[0;32m      1\u001b[0m \u001b[38;5;66;03m#graph number of delayed/cancelled flights per hourly timeslot\u001b[39;00m\n\u001b[1;32m----> 2\u001b[0m timefeat\u001b[38;5;241m=\u001b[39m\u001b[38;5;28msorted\u001b[39m(fi[\u001b[38;5;124m'\u001b[39m\u001b[38;5;124mrounded_to_hour\u001b[39m\u001b[38;5;124m'\u001b[39m]\u001b[38;5;241m.\u001b[39munique())\n\u001b[0;32m      4\u001b[0m sns\u001b[38;5;241m.\u001b[39mcatplot(x\u001b[38;5;241m=\u001b[39m\u001b[38;5;124m'\u001b[39m\u001b[38;5;124mrounded_to_hour\u001b[39m\u001b[38;5;124m'\u001b[39m, hue \u001b[38;5;241m=\u001b[39m\u001b[38;5;124m'\u001b[39m\u001b[38;5;124mDelayed_or_Cancelled\u001b[39m\u001b[38;5;124m'\u001b[39m, data\u001b[38;5;241m=\u001b[39mfi, kind\u001b[38;5;241m=\u001b[39m\u001b[38;5;124m'\u001b[39m\u001b[38;5;124mcount\u001b[39m\u001b[38;5;124m'\u001b[39m, aspect\u001b[38;5;241m=\u001b[39m\u001b[38;5;241m2\u001b[39m, order\u001b[38;5;241m=\u001b[39mtimefeat)\n\u001b[0;32m      5\u001b[0m plt\u001b[38;5;241m.\u001b[39mxticks(rotation\u001b[38;5;241m=\u001b[39m\u001b[38;5;124m'\u001b[39m\u001b[38;5;124mvertical\u001b[39m\u001b[38;5;124m'\u001b[39m)\n",
      "\u001b[1;31mNameError\u001b[0m: name 'fi' is not defined"
     ]
    }
   ],
   "source": [
    "#graph number of delayed/cancelled flights per hourly timeslot\n",
    "timefeat=sorted(fi['rounded_to_hour'].unique())\n",
    "\n",
    "sns.catplot(x='rounded_to_hour', hue ='Delayed_or_Cancelled', data=fi, kind='count', aspect=2, order=timefeat)\n",
    "plt.xticks(rotation='vertical')\n",
    "plt.xlabel('Timeslot (hourly)')\n",
    "plt.ylabel('Number of flights')\n",
    "plt.title('Number of flights per timeslot')\n",
    "plt.show()"
   ]
  },
  {
   "cell_type": "code",
   "execution_count": null,
   "id": "ef3dcdfe",
   "metadata": {},
   "outputs": [],
   "source": []
  }
 ],
 "metadata": {
  "kernelspec": {
   "display_name": "Python 3 (ipykernel)",
   "language": "python",
   "name": "python3"
  },
  "language_info": {
   "codemirror_mode": {
    "name": "ipython",
    "version": 3
   },
   "file_extension": ".py",
   "mimetype": "text/x-python",
   "name": "python",
   "nbconvert_exporter": "python",
   "pygments_lexer": "ipython3",
   "version": "3.11.7"
  }
 },
 "nbformat": 4,
 "nbformat_minor": 5
}
