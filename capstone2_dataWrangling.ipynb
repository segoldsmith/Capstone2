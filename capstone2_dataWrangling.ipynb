{
 "cells": [
  {
   "cell_type": "code",
   "execution_count": null,
   "id": "598bb0bc",
   "metadata": {},
   "outputs": [],
   "source": [
    "#import libraries\n",
    "import os\n",
    "import pandas as pd\n",
    "import datetime"
   ]
  },
  {
   "cell_type": "code",
   "execution_count": null,
   "id": "445474ee",
   "metadata": {},
   "outputs": [],
   "source": [
    "#change to correct working directory to import data\n",
    "os.listdir()\n",
    "os.chdir('C:/Users/steve/Documents/springboard/Capstone2/raw_data')\n",
    "cwd = os.getcwd()\n",
    "print(cwd)\n",
    "         "
   ]
  },
  {
   "cell_type": "code",
   "execution_count": null,
   "id": "4c6479d8",
   "metadata": {},
   "outputs": [],
   "source": [
    "#data collection: fi stands for flight information\n",
    "fi = pd.read_csv(\"../raw_data/2018.csv\")\n",
    "\n"
   ]
  },
  {
   "cell_type": "code",
   "execution_count": null,
   "id": "de711942",
   "metadata": {},
   "outputs": [],
   "source": [
    "#get overview of the data\n",
    "fi.info(show_counts=True)"
   ]
  },
  {
   "cell_type": "code",
   "execution_count": null,
   "id": "dcff731a",
   "metadata": {},
   "outputs": [],
   "source": [
    "#drop irrelevant columns (8, 9, 10, 11, 17, 18, 19, 20, 27)\n",
    "fi_drop = fi.drop(columns=['TAXI_OUT', 'WHEELS_OFF', 'WHEELS_ON', 'TAXI_IN', 'DIVERTED', 'CRS_ELAPSED_TIME', 'CRS_ELAPSED_TIME',\\\n",
    "                          'ACTUAL_ELAPSED_TIME', 'AIR_TIME', 'Unnamed: 27'])\n",
    "fi_drop.columns"
   ]
  },
  {
   "cell_type": "code",
   "execution_count": null,
   "id": "36e6bf18",
   "metadata": {},
   "outputs": [],
   "source": [
    "#rename columns\n",
    "fi_drop_rename = fi_drop.rename(columns = {'FL_DATE':'Date', 'OP_CARRIER':\"Airline\", 'OP_CARRIER_FL_NUM':'Flight_Number',\\\n",
    "                                          'CRS_DEP_TIME':'Planned_Depart_Time','DEP_TIME':'Actual_Depart_Time',\\\n",
    "                                           'Dep_delay':'Depart_Delay', 'CRS_ARR_TIME':'Planned_Arrival_Time',\\\n",
    "                                           'ARR_TIME':'Actual_Arrival_Time', 'ARR_DELAY':'Arrival_Delay',})\n",
    "fi_drop_rename.columns = fi_drop_rename.columns.str.capitalize()\n",
    "fi_drop_rename.columns"
   ]
  },
  {
   "cell_type": "code",
   "execution_count": null,
   "id": "5da654cc",
   "metadata": {},
   "outputs": [],
   "source": [
    "#change date and time columns (0, 5, 6, 8, 9) to datetime\n",
    "fi_drop_rename['Date'] = pd.to_datetime(fi_drop_rename['Date'])\n",
    "#fi_drop_rename['Planned_depart_time'] = pd.to_datetime(fi_drop_rename['Planned_depart_time'])\n",
    "fi_drop_rename.tail()"
   ]
  },
  {
   "cell_type": "code",
   "execution_count": null,
   "id": "12ac8568",
   "metadata": {},
   "outputs": [],
   "source": [
    "#import airport code names data and airline carrier data"
   ]
  },
  {
   "cell_type": "code",
   "execution_count": null,
   "id": "081a824b",
   "metadata": {},
   "outputs": [],
   "source": [
    "#merge and create columns on fi dataframe for full airport and full carrier names"
   ]
  },
  {
   "cell_type": "code",
   "execution_count": null,
   "id": "59abffdc",
   "metadata": {},
   "outputs": [],
   "source": [
    "#create Flight_delayed column. return 0 for left early/on time and 1 for delayed"
   ]
  },
  {
   "cell_type": "code",
   "execution_count": null,
   "id": "52803cda",
   "metadata": {},
   "outputs": [],
   "source": [
    "#look for outliers and missing values"
   ]
  },
  {
   "cell_type": "code",
   "execution_count": null,
   "id": "80285fbb",
   "metadata": {},
   "outputs": [],
   "source": [
    "#decide how to deal with any outliers/missing values"
   ]
  }
 ],
 "metadata": {
  "kernelspec": {
   "display_name": "Python 3 (ipykernel)",
   "language": "python",
   "name": "python3"
  },
  "language_info": {
   "codemirror_mode": {
    "name": "ipython",
    "version": 3
   },
   "file_extension": ".py",
   "mimetype": "text/x-python",
   "name": "python",
   "nbconvert_exporter": "python",
   "pygments_lexer": "ipython3",
   "version": "3.11.7"
  }
 },
 "nbformat": 4,
 "nbformat_minor": 5
}
