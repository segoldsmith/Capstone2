{
 "cells": [
  {
   "cell_type": "markdown",
   "id": "e99ee7d8",
   "metadata": {},
   "source": [
    "# Table of Contents\n",
    "* 1. Import and review data  \n",
    "        * 1.1 Import packages  \n",
    "        * 1.2 Import data  \n",
    "* 2. K-Nearest Neighbors\n",
    "* 3. Random Forest\n",
    "* 4. Gradient Boosting Machines - LightGBM\n",
    "* 5. Support Vector Regression - RBF\n",
    "\n",
    "      "
   ]
  },
  {
   "cell_type": "code",
   "execution_count": 1,
   "id": "d4ec1f95",
   "metadata": {},
   "outputs": [],
   "source": [
    "import pandas as pd\n",
    "import numpy as np\n",
    "import os\n",
    "import matplotlib.pyplot as plt\n"
   ]
  },
  {
   "cell_type": "code",
   "execution_count": 2,
   "id": "8ed122e7",
   "metadata": {},
   "outputs": [
    {
     "name": "stdout",
     "output_type": "stream",
     "text": [
      "C:\\Users\\steve\\Documents\\springboard\\Capstone2\\data\n"
     ]
    }
   ],
   "source": [
    "#confirm the disk location is correct for importing\n",
    "os.chdir('C:/Users/steve/Documents/springboard/Capstone2/data')\n",
    "cwd = os.getcwd()\n",
    "print(cwd)"
   ]
  },
  {
   "cell_type": "code",
   "execution_count": 3,
   "id": "e02aee7d",
   "metadata": {},
   "outputs": [
    {
     "name": "stdout",
     "output_type": "stream",
     "text": [
      "CPU times: total: 22.4 s\n",
      "Wall time: 44.6 s\n"
     ]
    }
   ],
   "source": [
    "%%time\n",
    "X_train = pd.read_csv('X_train.csv')\n",
    "X_test = pd.read_csv('X_test.csv')\n",
    "y_train = pd.read_csv('y_train.csv')\n",
    "y_test = pd.read_csv('y_test.csv')"
   ]
  },
  {
   "cell_type": "code",
   "execution_count": 4,
   "id": "719e1f94",
   "metadata": {},
   "outputs": [
    {
     "name": "stdout",
     "output_type": "stream",
     "text": [
      "(5605173, 166)\n",
      "(5605173, 1)\n",
      "(1401294, 166)\n",
      "(1401294, 1)\n"
     ]
    }
   ],
   "source": [
    "print(X_train.shape)\n",
    "print(y_train.shape)\n",
    "print(X_test.shape)\n",
    "print(y_test.shape)"
   ]
  },
  {
   "cell_type": "code",
   "execution_count": null,
   "id": "c67161f6",
   "metadata": {},
   "outputs": [],
   "source": []
  },
  {
   "cell_type": "markdown",
   "id": "1c1f43a4",
   "metadata": {},
   "source": [
    "# K-Nearest Neighbors"
   ]
  },
  {
   "cell_type": "code",
   "execution_count": null,
   "id": "ff3aab81",
   "metadata": {},
   "outputs": [],
   "source": [
    "%%time\n",
    "from sklearn.neighbors import KNeighborsRegressor\n",
    "\n",
    "knn=KNeighborsRegressor(n_neighbors=13)\n",
    "knn.fit(X_train_sample,y_train_sample)"
   ]
  },
  {
   "cell_type": "code",
   "execution_count": null,
   "id": "1906075e",
   "metadata": {},
   "outputs": [],
   "source": [
    "%%time\n",
    "from sklearn.model_selection import KFold, cross_val_score, RandomizedSearchCV\n",
    "kf=KFold(n_splits=5, shuffle=True, random_state=42)\n",
    "\n",
    "param_grid = {'n_neighbors':np.arange(1,15)}\n",
    "knn = KNeighborsRegressor()\n",
    "knn_cv= RandomizedSearchCV(knn,param_grid,cv=kf)\n",
    "knn_cv.fit(X_train_sample,y_train_sample)"
   ]
  },
  {
   "cell_type": "code",
   "execution_count": null,
   "id": "09cd0a8b",
   "metadata": {},
   "outputs": [],
   "source": [
    "print(\"Best Score:\" + str(knn_cv.best_score_))\n",
    "print(\"Best Parameters: \" + str(knn_cv.best_params_))"
   ]
  },
  {
   "cell_type": "code",
   "execution_count": null,
   "id": "448a131b",
   "metadata": {},
   "outputs": [],
   "source": [
    "%%time\n",
    "print(knn.score(X_train_sample,y_train_sample))"
   ]
  },
  {
   "cell_type": "code",
   "execution_count": null,
   "id": "16ff6092",
   "metadata": {},
   "outputs": [],
   "source": [
    "%%time\n",
    "print(knn.score(X_test_sample,y_test_sample))"
   ]
  },
  {
   "cell_type": "code",
   "execution_count": null,
   "id": "24fdcb14",
   "metadata": {},
   "outputs": [],
   "source": [
    "%%time\n",
    "y_pred_knn = knn.predict(X_test_sample)"
   ]
  },
  {
   "cell_type": "code",
   "execution_count": null,
   "id": "420bbdb3",
   "metadata": {},
   "outputs": [],
   "source": [
    "from sklearn.metrics import mean_absolute_error, mean_squared_error, r2_score\n",
    "# Calculate evaluation metrics\n",
    "mae = mean_absolute_error(y_test_sample, y_pred_knn)\n",
    "mse = mean_squared_error(y_test_sample, y_pred_knn)\n",
    "rmse = np.sqrt(mse)\n",
    "r2 = r2_score(y_test_sample, y_pred_knn)\n",
    "\n",
    "# Print evaluation metrics\n",
    "print(f'Mean Absolute Error (MAE): {mae}')\n",
    "print(f'Mean Squared Error (MSE): {mse}')\n",
    "print(f'Root Mean Squared Error (RMSE): {rmse}')\n",
    "print(f'R-squared (R2): {r2}')\n"
   ]
  },
  {
   "cell_type": "code",
   "execution_count": null,
   "id": "c4a94ae8",
   "metadata": {},
   "outputs": [],
   "source": []
  },
  {
   "cell_type": "code",
   "execution_count": null,
   "id": "04a105ea",
   "metadata": {},
   "outputs": [],
   "source": []
  },
  {
   "cell_type": "markdown",
   "id": "fb36c48a",
   "metadata": {},
   "source": [
    "# Random Forest"
   ]
  },
  {
   "cell_type": "code",
   "execution_count": 5,
   "id": "0dcfeab9",
   "metadata": {},
   "outputs": [],
   "source": [
    "# Split the training and test data into a smaller sample\n",
    "from sklearn.model_selection import train_test_split\n",
    "\n",
    "sample_fraction = 0.2\n",
    "\n",
    "X_train_sample, _, y_train_sample, _ = train_test_split(X_train, y_train, test_size=1-sample_fraction, random_state=42)\n",
    "X_test_sample, _, y_test_sample, _ = train_test_split(X_test, y_test, test_size=1-sample_fraction, random_state=42)"
   ]
  },
  {
   "cell_type": "code",
   "execution_count": 6,
   "id": "20863cfe",
   "metadata": {
    "scrolled": true
   },
   "outputs": [
    {
     "name": "stdout",
     "output_type": "stream",
     "text": [
      "(1121034, 166)\n",
      "(1121034, 1)\n",
      "(280258, 166)\n",
      "(280258, 1)\n",
      "CPU times: total: 0 ns\n",
      "Wall time: 0 ns\n"
     ]
    }
   ],
   "source": [
    "%%time\n",
    "print(X_train_sample.shape)\n",
    "print(y_train_sample.shape)\n",
    "print(X_test_sample.shape)\n",
    "print(y_test_sample.shape)"
   ]
  },
  {
   "cell_type": "code",
   "execution_count": 7,
   "id": "2eb1092a",
   "metadata": {},
   "outputs": [],
   "source": [
    "from sklearn.model_selection import RandomizedSearchCV\n",
    "from sklearn.ensemble import RandomForestRegressor\n",
    "from sklearn.metrics import mean_absolute_error, mean_squared_error, r2_score\n",
    "from scipy.stats import randint\n"
   ]
  },
  {
   "cell_type": "code",
   "execution_count": 8,
   "id": "8c74eae8",
   "metadata": {},
   "outputs": [],
   "source": [
    "rf = RandomForestRegressor(random_state=42)\n",
    "\n",
    "# Defining the parameter grid\n",
    "param_dist = {\n",
    "    'n_estimators': randint(50, 200),\n",
    "    'max_features': ['auto', 'sqrt', 'log2'],\n",
    "    'max_depth': randint(10, 50),\n",
    "    'min_samples_split': randint(2, 10),\n",
    "    'min_samples_leaf': randint(1, 10),\n",
    "    'bootstrap': [True, False]}"
   ]
  },
  {
   "cell_type": "code",
   "execution_count": 9,
   "id": "7a7b4f52",
   "metadata": {},
   "outputs": [],
   "source": [
    "# Setting up the RandomizedSearchCV\n",
    "random_search_rf = RandomizedSearchCV(\n",
    "    estimator=rf,\n",
    "    param_distributions=param_dist,\n",
    "    n_iter=5,  \n",
    "    cv=5,  \n",
    "    verbose=2,  \n",
    "    random_state=42,\n",
    "    n_jobs=-1)"
   ]
  },
  {
   "cell_type": "code",
   "execution_count": 10,
   "id": "85bd7caf",
   "metadata": {},
   "outputs": [
    {
     "name": "stdout",
     "output_type": "stream",
     "text": [
      "Fitting 5 folds for each of 5 candidates, totalling 25 fits\n",
      "CPU times: total: 5min 6s\n",
      "Wall time: 30min 39s\n"
     ]
    },
    {
     "data": {
      "text/html": [
       "<style>#sk-container-id-1 {color: black;background-color: white;}#sk-container-id-1 pre{padding: 0;}#sk-container-id-1 div.sk-toggleable {background-color: white;}#sk-container-id-1 label.sk-toggleable__label {cursor: pointer;display: block;width: 100%;margin-bottom: 0;padding: 0.3em;box-sizing: border-box;text-align: center;}#sk-container-id-1 label.sk-toggleable__label-arrow:before {content: \"▸\";float: left;margin-right: 0.25em;color: #696969;}#sk-container-id-1 label.sk-toggleable__label-arrow:hover:before {color: black;}#sk-container-id-1 div.sk-estimator:hover label.sk-toggleable__label-arrow:before {color: black;}#sk-container-id-1 div.sk-toggleable__content {max-height: 0;max-width: 0;overflow: hidden;text-align: left;background-color: #f0f8ff;}#sk-container-id-1 div.sk-toggleable__content pre {margin: 0.2em;color: black;border-radius: 0.25em;background-color: #f0f8ff;}#sk-container-id-1 input.sk-toggleable__control:checked~div.sk-toggleable__content {max-height: 200px;max-width: 100%;overflow: auto;}#sk-container-id-1 input.sk-toggleable__control:checked~label.sk-toggleable__label-arrow:before {content: \"▾\";}#sk-container-id-1 div.sk-estimator input.sk-toggleable__control:checked~label.sk-toggleable__label {background-color: #d4ebff;}#sk-container-id-1 div.sk-label input.sk-toggleable__control:checked~label.sk-toggleable__label {background-color: #d4ebff;}#sk-container-id-1 input.sk-hidden--visually {border: 0;clip: rect(1px 1px 1px 1px);clip: rect(1px, 1px, 1px, 1px);height: 1px;margin: -1px;overflow: hidden;padding: 0;position: absolute;width: 1px;}#sk-container-id-1 div.sk-estimator {font-family: monospace;background-color: #f0f8ff;border: 1px dotted black;border-radius: 0.25em;box-sizing: border-box;margin-bottom: 0.5em;}#sk-container-id-1 div.sk-estimator:hover {background-color: #d4ebff;}#sk-container-id-1 div.sk-parallel-item::after {content: \"\";width: 100%;border-bottom: 1px solid gray;flex-grow: 1;}#sk-container-id-1 div.sk-label:hover label.sk-toggleable__label {background-color: #d4ebff;}#sk-container-id-1 div.sk-serial::before {content: \"\";position: absolute;border-left: 1px solid gray;box-sizing: border-box;top: 0;bottom: 0;left: 50%;z-index: 0;}#sk-container-id-1 div.sk-serial {display: flex;flex-direction: column;align-items: center;background-color: white;padding-right: 0.2em;padding-left: 0.2em;position: relative;}#sk-container-id-1 div.sk-item {position: relative;z-index: 1;}#sk-container-id-1 div.sk-parallel {display: flex;align-items: stretch;justify-content: center;background-color: white;position: relative;}#sk-container-id-1 div.sk-item::before, #sk-container-id-1 div.sk-parallel-item::before {content: \"\";position: absolute;border-left: 1px solid gray;box-sizing: border-box;top: 0;bottom: 0;left: 50%;z-index: -1;}#sk-container-id-1 div.sk-parallel-item {display: flex;flex-direction: column;z-index: 1;position: relative;background-color: white;}#sk-container-id-1 div.sk-parallel-item:first-child::after {align-self: flex-end;width: 50%;}#sk-container-id-1 div.sk-parallel-item:last-child::after {align-self: flex-start;width: 50%;}#sk-container-id-1 div.sk-parallel-item:only-child::after {width: 0;}#sk-container-id-1 div.sk-dashed-wrapped {border: 1px dashed gray;margin: 0 0.4em 0.5em 0.4em;box-sizing: border-box;padding-bottom: 0.4em;background-color: white;}#sk-container-id-1 div.sk-label label {font-family: monospace;font-weight: bold;display: inline-block;line-height: 1.2em;}#sk-container-id-1 div.sk-label-container {text-align: center;}#sk-container-id-1 div.sk-container {/* jupyter's `normalize.less` sets `[hidden] { display: none; }` but bootstrap.min.css set `[hidden] { display: none !important; }` so we also need the `!important` here to be able to override the default hidden behavior on the sphinx rendered scikit-learn.org. See: https://github.com/scikit-learn/scikit-learn/issues/21755 */display: inline-block !important;position: relative;}#sk-container-id-1 div.sk-text-repr-fallback {display: none;}</style><div id=\"sk-container-id-1\" class=\"sk-top-container\"><div class=\"sk-text-repr-fallback\"><pre>RandomizedSearchCV(cv=5, estimator=RandomForestRegressor(random_state=42),\n",
       "                   n_iter=5, n_jobs=-1,\n",
       "                   param_distributions={&#x27;bootstrap&#x27;: [True, False],\n",
       "                                        &#x27;max_depth&#x27;: &lt;scipy.stats._distn_infrastructure.rv_discrete_frozen object at 0x000001EE71667450&gt;,\n",
       "                                        &#x27;max_features&#x27;: [&#x27;auto&#x27;, &#x27;sqrt&#x27;,\n",
       "                                                         &#x27;log2&#x27;],\n",
       "                                        &#x27;min_samples_leaf&#x27;: &lt;scipy.stats._distn_infrastructure.rv_discrete_frozen object at 0x000001EE71C7C550&gt;,\n",
       "                                        &#x27;min_samples_split&#x27;: &lt;scipy.stats._distn_infrastructure.rv_discrete_frozen object at 0x000001EE71C7BF10&gt;,\n",
       "                                        &#x27;n_estimators&#x27;: &lt;scipy.stats._distn_infrastructure.rv_discrete_frozen object at 0x000001EE6FAB5D90&gt;},\n",
       "                   random_state=42, verbose=2)</pre><b>In a Jupyter environment, please rerun this cell to show the HTML representation or trust the notebook. <br />On GitHub, the HTML representation is unable to render, please try loading this page with nbviewer.org.</b></div><div class=\"sk-container\" hidden><div class=\"sk-item sk-dashed-wrapped\"><div class=\"sk-label-container\"><div class=\"sk-label sk-toggleable\"><input class=\"sk-toggleable__control sk-hidden--visually\" id=\"sk-estimator-id-1\" type=\"checkbox\" ><label for=\"sk-estimator-id-1\" class=\"sk-toggleable__label sk-toggleable__label-arrow\">RandomizedSearchCV</label><div class=\"sk-toggleable__content\"><pre>RandomizedSearchCV(cv=5, estimator=RandomForestRegressor(random_state=42),\n",
       "                   n_iter=5, n_jobs=-1,\n",
       "                   param_distributions={&#x27;bootstrap&#x27;: [True, False],\n",
       "                                        &#x27;max_depth&#x27;: &lt;scipy.stats._distn_infrastructure.rv_discrete_frozen object at 0x000001EE71667450&gt;,\n",
       "                                        &#x27;max_features&#x27;: [&#x27;auto&#x27;, &#x27;sqrt&#x27;,\n",
       "                                                         &#x27;log2&#x27;],\n",
       "                                        &#x27;min_samples_leaf&#x27;: &lt;scipy.stats._distn_infrastructure.rv_discrete_frozen object at 0x000001EE71C7C550&gt;,\n",
       "                                        &#x27;min_samples_split&#x27;: &lt;scipy.stats._distn_infrastructure.rv_discrete_frozen object at 0x000001EE71C7BF10&gt;,\n",
       "                                        &#x27;n_estimators&#x27;: &lt;scipy.stats._distn_infrastructure.rv_discrete_frozen object at 0x000001EE6FAB5D90&gt;},\n",
       "                   random_state=42, verbose=2)</pre></div></div></div><div class=\"sk-parallel\"><div class=\"sk-parallel-item\"><div class=\"sk-item\"><div class=\"sk-label-container\"><div class=\"sk-label sk-toggleable\"><input class=\"sk-toggleable__control sk-hidden--visually\" id=\"sk-estimator-id-2\" type=\"checkbox\" ><label for=\"sk-estimator-id-2\" class=\"sk-toggleable__label sk-toggleable__label-arrow\">estimator: RandomForestRegressor</label><div class=\"sk-toggleable__content\"><pre>RandomForestRegressor(random_state=42)</pre></div></div></div><div class=\"sk-serial\"><div class=\"sk-item\"><div class=\"sk-estimator sk-toggleable\"><input class=\"sk-toggleable__control sk-hidden--visually\" id=\"sk-estimator-id-3\" type=\"checkbox\" ><label for=\"sk-estimator-id-3\" class=\"sk-toggleable__label sk-toggleable__label-arrow\">RandomForestRegressor</label><div class=\"sk-toggleable__content\"><pre>RandomForestRegressor(random_state=42)</pre></div></div></div></div></div></div></div></div></div></div>"
      ],
      "text/plain": [
       "RandomizedSearchCV(cv=5, estimator=RandomForestRegressor(random_state=42),\n",
       "                   n_iter=5, n_jobs=-1,\n",
       "                   param_distributions={'bootstrap': [True, False],\n",
       "                                        'max_depth': <scipy.stats._distn_infrastructure.rv_discrete_frozen object at 0x000001EE71667450>,\n",
       "                                        'max_features': ['auto', 'sqrt',\n",
       "                                                         'log2'],\n",
       "                                        'min_samples_leaf': <scipy.stats._distn_infrastructure.rv_discrete_frozen object at 0x000001EE71C7C550>,\n",
       "                                        'min_samples_split': <scipy.stats._distn_infrastructure.rv_discrete_frozen object at 0x000001EE71C7BF10>,\n",
       "                                        'n_estimators': <scipy.stats._distn_infrastructure.rv_discrete_frozen object at 0x000001EE6FAB5D90>},\n",
       "                   random_state=42, verbose=2)"
      ]
     },
     "execution_count": 10,
     "metadata": {},
     "output_type": "execute_result"
    }
   ],
   "source": [
    "%%time\n",
    "# Fitting the model\n",
    "random_search_rf.fit(X_train_sample, y_train_sample.values.ravel())\n"
   ]
  },
  {
   "cell_type": "code",
   "execution_count": 11,
   "id": "640fe927",
   "metadata": {},
   "outputs": [
    {
     "name": "stdout",
     "output_type": "stream",
     "text": [
      "Best Parameters: {'bootstrap': False, 'max_depth': 39, 'max_features': 'sqrt', 'min_samples_leaf': 2, 'min_samples_split': 9, 'n_estimators': 70}\n"
     ]
    }
   ],
   "source": [
    "print(f'Best Parameters: {random_search_rf.best_params_}')"
   ]
  },
  {
   "cell_type": "code",
   "execution_count": 12,
   "id": "38b55a44",
   "metadata": {},
   "outputs": [
    {
     "name": "stdout",
     "output_type": "stream",
     "text": [
      "CPU times: total: 0 ns\n",
      "Wall time: 0 ns\n"
     ]
    }
   ],
   "source": [
    "%%time\n",
    "# Making predictions with the best estimator\n",
    "best_model_rf = random_search_rf.best_estimator_\n",
    "\n",
    "\n",
    "\n"
   ]
  },
  {
   "cell_type": "code",
   "execution_count": 13,
   "id": "f256adcc",
   "metadata": {},
   "outputs": [
    {
     "name": "stdout",
     "output_type": "stream",
     "text": [
      "CPU times: total: 6.31 s\n",
      "Wall time: 6.98 s\n"
     ]
    }
   ],
   "source": [
    "%%time\n",
    "y_pred_rf = best_model_rf.predict(X_test_sample)"
   ]
  },
  {
   "cell_type": "code",
   "execution_count": 23,
   "id": "30640aaa",
   "metadata": {},
   "outputs": [
    {
     "name": "stdout",
     "output_type": "stream",
     "text": [
      "Mean Absolute Error (MAE): 0.6780843160333464\n",
      "Mean Squared Error (MSE): 0.8558391544551969\n",
      "Root Mean Squared Error (RMSE): 0.9251157519225348\n",
      "R-squared (R2): 0.14121759948016466\n",
      "CPU times: total: 0 ns\n",
      "Wall time: 25.5 ms\n"
     ]
    }
   ],
   "source": [
    "%%time\n",
    "# Evaluating the model\n",
    "mae_rf = mean_absolute_error(y_test_sample, y_pred_rf)\n",
    "mse_rf = mean_squared_error(y_test_sample, y_pred_rf)\n",
    "rmse_rf = np.sqrt(mse_rf)\n",
    "r2_rf = r2_score(y_test_sample, y_pred_rf)\n",
    "\n",
    "# Print evaluation metrics\n",
    "print(f'Mean Absolute Error (MAE): {mae_rf}')\n",
    "print(f'Mean Squared Error (MSE): {mse_rf}')\n",
    "print(f'Root Mean Squared Error (RMSE): {rmse_rf}')\n",
    "print(f'R-squared (R2): {r2_rf}')\n"
   ]
  },
  {
   "cell_type": "code",
   "execution_count": null,
   "id": "da7ad0b5",
   "metadata": {},
   "outputs": [],
   "source": []
  },
  {
   "cell_type": "code",
   "execution_count": null,
   "id": "61f6ceac",
   "metadata": {},
   "outputs": [],
   "source": []
  },
  {
   "cell_type": "code",
   "execution_count": 15,
   "id": "27f26317",
   "metadata": {},
   "outputs": [],
   "source": [
    "from bayes_opt import BayesianOptimization\n",
    "from sklearn.metrics import mean_absolute_error, mean_squared_error, r2_score"
   ]
  },
  {
   "cell_type": "code",
   "execution_count": 48,
   "id": "ab250d4b",
   "metadata": {},
   "outputs": [],
   "source": [
    "# Define the objective function to optimize\n",
    "def rf_eval(n_estimators, max_depth, min_samples_split, min_samples_leaf):\n",
    "    \"\"\"\n",
    "    Trains a Random Forest with given hyperparameters and returns the cross-validated score.\n",
    "    \"\"\"\n",
    "    # Convert float inputs to int (as hyperparameters must be integers)\n",
    "    n_estimators = int(n_estimators)\n",
    "    max_depth = int(max_depth)\n",
    "    min_samples_split = int(min_samples_split)\n",
    "    min_samples_leaf = int(min_samples_leaf)\n",
    "    \n",
    "    \n",
    "    # Create Model\n",
    "    rfbo = RandomForestRegressor(\n",
    "        n_estimators=n_estimators,\n",
    "        max_depth=max_depth,\n",
    "        min_samples_split=min_samples_split,\n",
    "        min_samples_leaf=min_samples_leaf,\n",
    "        random_state=42,\n",
    "        n_jobs=-1,\n",
    "        \n",
    "    )\n",
    "    \n",
    "    rfbo.fit(X_train_sample, y_train_sample.values.ravel())\n",
    "    y_pred_rfbo = rfbo.predict(X_test_sample)\n",
    "    mse = mean_squared_error(y_test_sample, y_pred_rfbo)\n",
    "    return -mse  \n"
   ]
  },
  {
   "cell_type": "code",
   "execution_count": 49,
   "id": "79438a64",
   "metadata": {},
   "outputs": [],
   "source": [
    "# Define the parameter search space\n",
    "pbounds = {\n",
    "    \"n_estimators\": (50, 200),  \n",
    "    \"max_depth\": (5, 50), \n",
    "    \"min_samples_split\": (2, 10), \n",
    "    \"min_samples_leaf\": (1, 10),\n",
    "}"
   ]
  },
  {
   "cell_type": "code",
   "execution_count": 50,
   "id": "c408c99a",
   "metadata": {},
   "outputs": [],
   "source": [
    "# Set up the optimizer\n",
    "optimizer = BayesianOptimization(\n",
    "    f=rf_eval,  \n",
    "    pbounds=pbounds, \n",
    "    random_state=42,\n",
    "    verbose=2\n",
    ")"
   ]
  },
  {
   "cell_type": "code",
   "execution_count": 51,
   "id": "ef59bb0b",
   "metadata": {
    "scrolled": false
   },
   "outputs": [
    {
     "name": "stdout",
     "output_type": "stream",
     "text": [
      "|   iter    |  target   | max_depth | min_sa... | min_sa... | n_esti... |\n",
      "-------------------------------------------------------------------------\n",
      "| \u001b[39m1        \u001b[39m | \u001b[39m-0.8693  \u001b[39m | \u001b[39m21.85    \u001b[39m | \u001b[39m9.556    \u001b[39m | \u001b[39m7.856    \u001b[39m | \u001b[39m139.8    \u001b[39m |\n",
      "| \u001b[39m2        \u001b[39m | \u001b[39m-0.9     \u001b[39m | \u001b[39m12.02    \u001b[39m | \u001b[39m2.404    \u001b[39m | \u001b[39m2.465    \u001b[39m | \u001b[39m179.9    \u001b[39m |\n",
      "| \u001b[35m3        \u001b[39m | \u001b[35m-0.8537  \u001b[39m | \u001b[35m32.05    \u001b[39m | \u001b[35m7.373    \u001b[39m | \u001b[35m2.165    \u001b[39m | \u001b[35m195.5    \u001b[39m |\n",
      "| \u001b[39m4        \u001b[39m | \u001b[39m-0.8942  \u001b[39m | \u001b[39m42.46    \u001b[39m | \u001b[39m2.911    \u001b[39m | \u001b[39m3.455    \u001b[39m | \u001b[39m77.51    \u001b[39m |\n",
      "| \u001b[39m5        \u001b[39m | \u001b[39m-0.8537  \u001b[39m | \u001b[39m32.8     \u001b[39m | \u001b[39m7.93     \u001b[39m | \u001b[39m2.832    \u001b[39m | \u001b[39m194.4    \u001b[39m |\n",
      "| \u001b[39m6        \u001b[39m | \u001b[39m-0.952   \u001b[39m | \u001b[39m49.16    \u001b[39m | \u001b[39m2.0      \u001b[39m | \u001b[39m3.286    \u001b[39m | \u001b[39m198.5    \u001b[39m |\n",
      "| \u001b[39m7        \u001b[39m | \u001b[39m-0.8648  \u001b[39m | \u001b[39m23.67    \u001b[39m | \u001b[39m7.746    \u001b[39m | \u001b[39m9.517    \u001b[39m | \u001b[39m195.0    \u001b[39m |\n",
      "| \u001b[39m8        \u001b[39m | \u001b[39m-0.8554  \u001b[39m | \u001b[39m29.82    \u001b[39m | \u001b[39m9.785    \u001b[39m | \u001b[39m2.826    \u001b[39m | \u001b[39m180.5    \u001b[39m |\n",
      "| \u001b[35m9        \u001b[39m | \u001b[35m-0.8512  \u001b[39m | \u001b[35m37.13    \u001b[39m | \u001b[35m8.821    \u001b[39m | \u001b[35m4.942    \u001b[39m | \u001b[35m163.8    \u001b[39m |\n",
      "| \u001b[35m10       \u001b[39m | \u001b[35m-0.8508  \u001b[39m | \u001b[35m45.45    \u001b[39m | \u001b[35m8.885    \u001b[39m | \u001b[35m8.115    \u001b[39m | \u001b[35m150.6    \u001b[39m |\n",
      "| \u001b[39m11       \u001b[39m | \u001b[39m-0.8814  \u001b[39m | \u001b[39m49.84    \u001b[39m | \u001b[39m2.677    \u001b[39m | \u001b[39m9.582    \u001b[39m | \u001b[39m162.3    \u001b[39m |\n",
      "| \u001b[39m12       \u001b[39m | \u001b[39m-0.8991  \u001b[39m | \u001b[39m32.71    \u001b[39m | \u001b[39m1.36     \u001b[39m | \u001b[39m2.579    \u001b[39m | \u001b[39m151.4    \u001b[39m |\n",
      "=========================================================================\n",
      "Best hyperparameters found: {'target': -0.8508135276733234, 'params': {'max_depth': 45.44829909130057, 'min_samples_leaf': 8.88475769057052, 'min_samples_split': 8.114762421844707, 'n_estimators': 150.6184920964011}}\n",
      "CPU times: total: 1d 5h 31min 40s\n",
      "Wall time: 3h 47min 17s\n"
     ]
    }
   ],
   "source": [
    "%%time\n",
    "# Run optimization\n",
    "optimizer.maximize(init_points=4, n_iter=8)\n",
    "\n",
    "# Print best parameters\n",
    "print(\"Best hyperparameters found:\", optimizer.max)"
   ]
  },
  {
   "cell_type": "code",
   "execution_count": 55,
   "id": "8ca0f2e7",
   "metadata": {},
   "outputs": [
    {
     "name": "stdout",
     "output_type": "stream",
     "text": [
      "{'max_depth': 45, 'min_samples_leaf': 8, 'min_samples_split': 8, 'n_estimators': 150}\n",
      "CPU times: total: 0 ns\n",
      "Wall time: 1.12 ms\n"
     ]
    }
   ],
   "source": [
    "%%time\n",
    "# Extract the best parameters\n",
    "best_params_rf = optimizer.max['params']\n",
    "best_params_rf['n_estimators'] = int(best_params_rf['n_estimators'])\n",
    "best_params_rf['max_depth'] = int(best_params_rf['max_depth'])\n",
    "best_params_rf['min_samples_split'] = int(best_params_rf['min_samples_split'])\n",
    "best_params_rf['min_samples_leaf'] = int(best_params_rf['min_samples_leaf'])\n",
    "\n",
    "print(best_params_rf)"
   ]
  },
  {
   "cell_type": "code",
   "execution_count": 53,
   "id": "ff6925a0",
   "metadata": {},
   "outputs": [
    {
     "name": "stdout",
     "output_type": "stream",
     "text": [
      "{'max_depth': 45, 'min_samples_leaf': 8.88475769057052, 'min_samples_split': 8.114762421844707, 'n_estimators': 150}\n"
     ]
    }
   ],
   "source": []
  },
  {
   "cell_type": "code",
   "execution_count": null,
   "id": "71dbe2e8",
   "metadata": {},
   "outputs": [],
   "source": []
  }
 ],
 "metadata": {
  "kernelspec": {
   "display_name": "Python 3 (ipykernel)",
   "language": "python",
   "name": "python3"
  },
  "language_info": {
   "codemirror_mode": {
    "name": "ipython",
    "version": 3
   },
   "file_extension": ".py",
   "mimetype": "text/x-python",
   "name": "python",
   "nbconvert_exporter": "python",
   "pygments_lexer": "ipython3",
   "version": "3.11.7"
  }
 },
 "nbformat": 4,
 "nbformat_minor": 5
}
