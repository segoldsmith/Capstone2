{
 "cells": [
  {
   "cell_type": "markdown",
   "id": "b6387418",
   "metadata": {},
   "source": [
    "# Table of Contents\n",
    "* 1. Import and review data  \n",
    "    * 1.1 Import packages  \n",
    "    * 1.2 Import data  \n",
    "    * 1.3 Get overview of dataframe   \n",
    "    * 1.4 Clean/Remove un-needed columns\n",
    "* 2. create dummy variables\n",
    "* 3. Scale standardization\n",
    "    * 3.1 check for and remove outliers\n",
    "    * 3.2 Split into train/test sets \n",
    "    * 3.3 Transform data with Log transformation"
   ]
  },
  {
   "cell_type": "markdown",
   "id": "3b079ffb",
   "metadata": {},
   "source": [
    "# 1 Import and review data"
   ]
  },
  {
   "cell_type": "markdown",
   "id": "e3ed8a14",
   "metadata": {},
   "source": [
    "1.1 Import packages"
   ]
  },
  {
   "cell_type": "code",
   "execution_count": 1,
   "id": "e2ad6094",
   "metadata": {},
   "outputs": [],
   "source": [
    "import pandas as pd\n",
    "import numpy as np\n",
    "import os\n",
    "import matplotlib.pyplot as plt\n"
   ]
  },
  {
   "cell_type": "code",
   "execution_count": 2,
   "id": "a49e08f3",
   "metadata": {},
   "outputs": [
    {
     "name": "stdout",
     "output_type": "stream",
     "text": [
      "C:\\Users\\steve\\Documents\\springboard\\Capstone2\\data\n"
     ]
    }
   ],
   "source": [
    "#confirm the disk location is correct for importing\n",
    "os.chdir('C:/Users/steve/Documents/springboard/Capstone2/data')\n",
    "cwd = os.getcwd()\n",
    "print(cwd)"
   ]
  },
  {
   "cell_type": "markdown",
   "id": "c502ba55",
   "metadata": {},
   "source": [
    "1.2 Import data"
   ]
  },
  {
   "cell_type": "code",
   "execution_count": 53,
   "id": "b4ee556d",
   "metadata": {},
   "outputs": [],
   "source": [
    "df = pd.read_csv('flights.csv')"
   ]
  },
  {
   "cell_type": "markdown",
   "id": "09c137af",
   "metadata": {},
   "source": [
    "1.3: Overview of data"
   ]
  },
  {
   "cell_type": "code",
   "execution_count": 4,
   "id": "9cf7aac8",
   "metadata": {},
   "outputs": [
    {
     "data": {
      "text/html": [
       "<div>\n",
       "<style scoped>\n",
       "    .dataframe tbody tr th:only-of-type {\n",
       "        vertical-align: middle;\n",
       "    }\n",
       "\n",
       "    .dataframe tbody tr th {\n",
       "        vertical-align: top;\n",
       "    }\n",
       "\n",
       "    .dataframe thead th {\n",
       "        text-align: right;\n",
       "    }\n",
       "</style>\n",
       "<table border=\"1\" class=\"dataframe\">\n",
       "  <thead>\n",
       "    <tr style=\"text-align: right;\">\n",
       "      <th></th>\n",
       "      <th>Date</th>\n",
       "      <th>Airline</th>\n",
       "      <th>Flight_number</th>\n",
       "      <th>Origin</th>\n",
       "      <th>Dest</th>\n",
       "      <th>Planned_depart_time</th>\n",
       "      <th>Actual_depart_time</th>\n",
       "      <th>Dep_delay</th>\n",
       "      <th>Cancelled</th>\n",
       "      <th>Distance</th>\n",
       "      <th>Airline_Name</th>\n",
       "      <th>Origin_Name</th>\n",
       "      <th>Origin_State</th>\n",
       "      <th>Dest_Name</th>\n",
       "      <th>Dest_State</th>\n",
       "      <th>Delayed_or_Cancelled</th>\n",
       "      <th>hour_depart</th>\n",
       "    </tr>\n",
       "  </thead>\n",
       "  <tbody>\n",
       "    <tr>\n",
       "      <th>0</th>\n",
       "      <td>2018-01-01</td>\n",
       "      <td>UA</td>\n",
       "      <td>2429</td>\n",
       "      <td>EWR</td>\n",
       "      <td>DEN</td>\n",
       "      <td>15:17:00</td>\n",
       "      <td>15:12:00</td>\n",
       "      <td>-5.0</td>\n",
       "      <td>0.0</td>\n",
       "      <td>1605.0</td>\n",
       "      <td>United Airlines, Inc.</td>\n",
       "      <td>Newark</td>\n",
       "      <td>NJ</td>\n",
       "      <td>Denver</td>\n",
       "      <td>CO</td>\n",
       "      <td>N</td>\n",
       "      <td>1900-01-01 15:17:00</td>\n",
       "    </tr>\n",
       "    <tr>\n",
       "      <th>1</th>\n",
       "      <td>2018-01-01</td>\n",
       "      <td>UA</td>\n",
       "      <td>2427</td>\n",
       "      <td>LAS</td>\n",
       "      <td>SFO</td>\n",
       "      <td>11:15:00</td>\n",
       "      <td>11:07:00</td>\n",
       "      <td>-8.0</td>\n",
       "      <td>0.0</td>\n",
       "      <td>414.0</td>\n",
       "      <td>United Airlines, Inc.</td>\n",
       "      <td>Las Vegas</td>\n",
       "      <td>NV</td>\n",
       "      <td>San Francisco</td>\n",
       "      <td>CA</td>\n",
       "      <td>N</td>\n",
       "      <td>1900-01-01 11:15:00</td>\n",
       "    </tr>\n",
       "    <tr>\n",
       "      <th>2</th>\n",
       "      <td>2018-01-01</td>\n",
       "      <td>UA</td>\n",
       "      <td>2426</td>\n",
       "      <td>SNA</td>\n",
       "      <td>DEN</td>\n",
       "      <td>13:35:00</td>\n",
       "      <td>13:30:00</td>\n",
       "      <td>-5.0</td>\n",
       "      <td>0.0</td>\n",
       "      <td>846.0</td>\n",
       "      <td>United Airlines, Inc.</td>\n",
       "      <td>Orange County</td>\n",
       "      <td>CA</td>\n",
       "      <td>Denver</td>\n",
       "      <td>CO</td>\n",
       "      <td>N</td>\n",
       "      <td>1900-01-01 13:35:00</td>\n",
       "    </tr>\n",
       "    <tr>\n",
       "      <th>3</th>\n",
       "      <td>2018-01-01</td>\n",
       "      <td>UA</td>\n",
       "      <td>2425</td>\n",
       "      <td>RSW</td>\n",
       "      <td>ORD</td>\n",
       "      <td>15:46:00</td>\n",
       "      <td>15:52:00</td>\n",
       "      <td>6.0</td>\n",
       "      <td>0.0</td>\n",
       "      <td>1120.0</td>\n",
       "      <td>United Airlines, Inc.</td>\n",
       "      <td>Fort Myers</td>\n",
       "      <td>FL</td>\n",
       "      <td>Chicago</td>\n",
       "      <td>IL</td>\n",
       "      <td>Y</td>\n",
       "      <td>1900-01-01 15:46:00</td>\n",
       "    </tr>\n",
       "    <tr>\n",
       "      <th>4</th>\n",
       "      <td>2018-01-01</td>\n",
       "      <td>UA</td>\n",
       "      <td>2424</td>\n",
       "      <td>ORD</td>\n",
       "      <td>ALB</td>\n",
       "      <td>06:30:00</td>\n",
       "      <td>06:50:00</td>\n",
       "      <td>20.0</td>\n",
       "      <td>0.0</td>\n",
       "      <td>723.0</td>\n",
       "      <td>United Airlines, Inc.</td>\n",
       "      <td>Chicago</td>\n",
       "      <td>IL</td>\n",
       "      <td>Albany</td>\n",
       "      <td>NY</td>\n",
       "      <td>Y</td>\n",
       "      <td>1900-01-01 06:30:00</td>\n",
       "    </tr>\n",
       "  </tbody>\n",
       "</table>\n",
       "</div>"
      ],
      "text/plain": [
       "         Date Airline  Flight_number Origin Dest Planned_depart_time  \\\n",
       "0  2018-01-01      UA           2429    EWR  DEN            15:17:00   \n",
       "1  2018-01-01      UA           2427    LAS  SFO            11:15:00   \n",
       "2  2018-01-01      UA           2426    SNA  DEN            13:35:00   \n",
       "3  2018-01-01      UA           2425    RSW  ORD            15:46:00   \n",
       "4  2018-01-01      UA           2424    ORD  ALB            06:30:00   \n",
       "\n",
       "  Actual_depart_time  Dep_delay  Cancelled  Distance           Airline_Name  \\\n",
       "0           15:12:00       -5.0        0.0    1605.0  United Airlines, Inc.   \n",
       "1           11:07:00       -8.0        0.0     414.0  United Airlines, Inc.   \n",
       "2           13:30:00       -5.0        0.0     846.0  United Airlines, Inc.   \n",
       "3           15:52:00        6.0        0.0    1120.0  United Airlines, Inc.   \n",
       "4           06:50:00       20.0        0.0     723.0  United Airlines, Inc.   \n",
       "\n",
       "     Origin_Name Origin_State      Dest_Name Dest_State Delayed_or_Cancelled  \\\n",
       "0         Newark           NJ         Denver         CO                    N   \n",
       "1      Las Vegas           NV  San Francisco         CA                    N   \n",
       "2  Orange County           CA         Denver         CO                    N   \n",
       "3     Fort Myers           FL        Chicago         IL                    Y   \n",
       "4        Chicago           IL         Albany         NY                    Y   \n",
       "\n",
       "           hour_depart  \n",
       "0  1900-01-01 15:17:00  \n",
       "1  1900-01-01 11:15:00  \n",
       "2  1900-01-01 13:35:00  \n",
       "3  1900-01-01 15:46:00  \n",
       "4  1900-01-01 06:30:00  "
      ]
     },
     "execution_count": 4,
     "metadata": {},
     "output_type": "execute_result"
    }
   ],
   "source": [
    "df.head()"
   ]
  },
  {
   "cell_type": "code",
   "execution_count": 5,
   "id": "73005a02",
   "metadata": {},
   "outputs": [
    {
     "name": "stdout",
     "output_type": "stream",
     "text": [
      "<class 'pandas.core.frame.DataFrame'>\n",
      "RangeIndex: 7191323 entries, 0 to 7191322\n",
      "Data columns (total 26 columns):\n",
      " #   Column                Non-Null Count    Dtype  \n",
      "---  ------                --------------    -----  \n",
      " 0   Date                  7191323 non-null  object \n",
      " 1   Airline               7191323 non-null  object \n",
      " 2   Flight_number         7191323 non-null  int64  \n",
      " 3   Origin                7191323 non-null  object \n",
      " 4   Dest                  7191323 non-null  object \n",
      " 5   Planned_depart_time   7191323 non-null  object \n",
      " 6   Actual_depart_time    7079005 non-null  object \n",
      " 7   Dep_delay             7079005 non-null  float64\n",
      " 8   Cancelled             7191323 non-null  float64\n",
      " 9   Distance              7191323 non-null  float64\n",
      " 10  Airline_Name          7191323 non-null  object \n",
      " 11  Origin_Name           7191323 non-null  object \n",
      " 12  Origin_State          7191323 non-null  object \n",
      " 13  Dest_Name             7191323 non-null  object \n",
      " 14  Dest_State            7191323 non-null  object \n",
      " 15  Delayed_or_Cancelled  7191323 non-null  object \n",
      " 16  month                 7191323 non-null  int64  \n",
      " 17  hour_depart           7191323 non-null  object \n",
      " 18  day                   7191323 non-null  object \n",
      " 19  dcn                   7191323 non-null  int64  \n",
      " 20  fnstring              7191323 non-null  int64  \n",
      " 21  airflightnumber       7191323 non-null  object \n",
      " 22  Delay15m              7191323 non-null  object \n",
      " 23  Delayed60m            7191323 non-null  object \n",
      " 24  dcn15                 7191323 non-null  int64  \n",
      " 25  dcn60                 7191323 non-null  int64  \n",
      "dtypes: float64(3), int64(6), object(17)\n",
      "memory usage: 1.4+ GB\n"
     ]
    }
   ],
   "source": [
    "df.info(show_counts=True)"
   ]
  },
  {
   "cell_type": "markdown",
   "id": "d2b8d1b6",
   "metadata": {},
   "source": [
    "1.4 clean/ Remove un-needed columns"
   ]
  },
  {
   "cell_type": "code",
   "execution_count": 6,
   "id": "ba6cbbad",
   "metadata": {},
   "outputs": [],
   "source": [
    "#convert month column to object type\n",
    "df['month']=df['month'].astype('object')"
   ]
  },
  {
   "cell_type": "code",
   "execution_count": 7,
   "id": "cb47b4b2",
   "metadata": {},
   "outputs": [],
   "source": [
    "#remove all cancelled flights\n",
    "df=df.dropna(how='any')"
   ]
  },
  {
   "cell_type": "code",
   "execution_count": 8,
   "id": "773d7a1c",
   "metadata": {},
   "outputs": [
    {
     "data": {
      "text/plain": [
       "Date                      365\n",
       "Airline                    18\n",
       "Flight_number            7113\n",
       "Origin                    358\n",
       "Dest                      358\n",
       "Planned_depart_time      1368\n",
       "Actual_depart_time       1440\n",
       "Dep_delay                1481\n",
       "Cancelled                   1\n",
       "Distance                 1546\n",
       "Airline_Name               18\n",
       "Origin_Name               340\n",
       "Origin_State               55\n",
       "Dest_Name                 340\n",
       "Dest_State                 55\n",
       "Delayed_or_Cancelled        2\n",
       "month                      12\n",
       "hour_depart                25\n",
       "day                         7\n",
       "dcn                         2\n",
       "fnstring                 7113\n",
       "airflightnumber         29999\n",
       "Delay15m                    2\n",
       "Delayed60m                  2\n",
       "dcn15                       2\n",
       "dcn60                       2\n",
       "dtype: int64"
      ]
     },
     "execution_count": 8,
     "metadata": {},
     "output_type": "execute_result"
    }
   ],
   "source": [
    "#look at number of unique values for each column/feature\n",
    "df.nunique()"
   ]
  },
  {
   "cell_type": "code",
   "execution_count": 9,
   "id": "8198b59e",
   "metadata": {},
   "outputs": [],
   "source": [
    "#remove unnecessary columns\n",
    "fi=df.drop(columns=['dcn15', 'dcn60', 'dcn', 'Airline_Name', 'Origin_Name', 'Dest_Name','fnstring', 'Flight_number',\\\n",
    "                    'Cancelled', 'Delay15m', 'Delayed60m', 'Delayed_or_Cancelled', 'airflightnumber', 'Date', \\\n",
    "                    'Planned_depart_time', 'Actual_depart_time','Origin','Dest'])"
   ]
  },
  {
   "cell_type": "markdown",
   "id": "72aa3bad",
   "metadata": {},
   "source": [
    "*'dcn15', 'dcn60', 'dcn','Delay15m', 'Delayed60m', 'fnstring', and 'airflightnumber', were all temporary columns made for EDA calculations.  \n",
    "*'Airline_Name', 'Origin_Name', 'Dest_Name' are the same information as 'Airline', 'Origin', and 'Dest'.  \n",
    "*'Date', 'Planned_depart_time', and 'Actual_depart_time' were previously combined into different groupings to reduce the number of features. Instead of 365 dates, and over 1,350 departure times, the 'month', 'hour_depart', and 'day\" columns group this data into more managable features.  \n",
    "*'Origin', and 'Dest' were previously combined into different groupings to reduce the number of features. Instead of 358 airports, the 'Origin_State' and 'Dest_State' columns group the airports by state/territory, reducing the features to 55."
   ]
  },
  {
   "cell_type": "code",
   "execution_count": 10,
   "id": "bb4e1864",
   "metadata": {},
   "outputs": [
    {
     "name": "stdout",
     "output_type": "stream",
     "text": [
      "<class 'pandas.core.frame.DataFrame'>\n",
      "Index: 7079005 entries, 0 to 7191322\n",
      "Data columns (total 8 columns):\n",
      " #   Column        Non-Null Count    Dtype  \n",
      "---  ------        --------------    -----  \n",
      " 0   Airline       7079005 non-null  object \n",
      " 1   Dep_delay     7079005 non-null  float64\n",
      " 2   Distance      7079005 non-null  float64\n",
      " 3   Origin_State  7079005 non-null  object \n",
      " 4   Dest_State    7079005 non-null  object \n",
      " 5   month         7079005 non-null  object \n",
      " 6   hour_depart   7079005 non-null  object \n",
      " 7   day           7079005 non-null  object \n",
      "dtypes: float64(2), object(6)\n",
      "memory usage: 486.1+ MB\n"
     ]
    }
   ],
   "source": [
    "fi.info(show_counts=True)"
   ]
  },
  {
   "cell_type": "code",
   "execution_count": 11,
   "id": "6414077f",
   "metadata": {},
   "outputs": [
    {
     "data": {
      "text/plain": [
       "Airline           18\n",
       "Dep_delay       1481\n",
       "Distance        1546\n",
       "Origin_State      55\n",
       "Dest_State        55\n",
       "month             12\n",
       "hour_depart       25\n",
       "day                7\n",
       "dtype: int64"
      ]
     },
     "execution_count": 11,
     "metadata": {},
     "output_type": "execute_result"
    }
   ],
   "source": [
    "#get the number of unique values in each column\n",
    "fi.nunique()"
   ]
  },
  {
   "cell_type": "code",
   "execution_count": 12,
   "id": "54519017",
   "metadata": {},
   "outputs": [],
   "source": [
    "#combine both midnight hour values \n",
    "fi['hour_depart'] = fi['hour_depart'].str.replace('1900-01-02 00:00:00', '1900-01-01 00:00:00')"
   ]
  },
  {
   "cell_type": "code",
   "execution_count": null,
   "id": "0c38b539",
   "metadata": {},
   "outputs": [],
   "source": [
    "#save/export reduced dataframe for later use\n",
    "fi.to_csv(r'C:/Users/steve/Documents/springboard/Capstone2/data/fi.csv', index=False)"
   ]
  },
  {
   "cell_type": "markdown",
   "id": "504f4146",
   "metadata": {},
   "source": [
    "# 2 create dummy variables"
   ]
  },
  {
   "cell_type": "code",
   "execution_count": 13,
   "id": "4e05aebb",
   "metadata": {},
   "outputs": [],
   "source": [
    "#create dummy variables\n",
    "fi_encoded=pd.get_dummies(fi, drop_first=True)"
   ]
  },
  {
   "cell_type": "code",
   "execution_count": 14,
   "id": "122b44af",
   "metadata": {},
   "outputs": [
    {
     "data": {
      "text/plain": [
       "(7079005, 167)"
      ]
     },
     "execution_count": 14,
     "metadata": {},
     "output_type": "execute_result"
    }
   ],
   "source": [
    "#use shape attribute to confirm the correct number of new feature columns\n",
    "fi_encoded.shape"
   ]
  },
  {
   "cell_type": "markdown",
   "id": "f9a5711e",
   "metadata": {},
   "source": [
    "# 3 Scale standardization"
   ]
  },
  {
   "cell_type": "markdown",
   "id": "4a8d3e56",
   "metadata": {},
   "source": [
    "3.1 check for and remove outliers"
   ]
  },
  {
   "cell_type": "code",
   "execution_count": 15,
   "id": "0329a9e7",
   "metadata": {},
   "outputs": [
    {
     "data": {
      "image/png": "[encoded data removed]",
      "text/plain": [
       "<Figure size 640x480 with 2 Axes>"
      ]
     },
     "metadata": {},
     "output_type": "display_data"
    }
   ],
   "source": [
    "#look at grpahs to determine if their are outliers/which scaler to use\n",
    "fi_encoded.hist()\n",
    "plt.show()"
   ]
  },
  {
   "cell_type": "code",
   "execution_count": 16,
   "id": "a177f7a0",
   "metadata": {},
   "outputs": [
    {
     "data": {
      "text/html": [
       "<div>\n",
       "<style scoped>\n",
       "    .dataframe tbody tr th:only-of-type {\n",
       "        vertical-align: middle;\n",
       "    }\n",
       "\n",
       "    .dataframe tbody tr th {\n",
       "        vertical-align: top;\n",
       "    }\n",
       "\n",
       "    .dataframe thead th {\n",
       "        text-align: right;\n",
       "    }\n",
       "</style>\n",
       "<table border=\"1\" class=\"dataframe\">\n",
       "  <thead>\n",
       "    <tr style=\"text-align: right;\">\n",
       "      <th></th>\n",
       "      <th>Dep_delay</th>\n",
       "      <th>Distance</th>\n",
       "    </tr>\n",
       "  </thead>\n",
       "  <tbody>\n",
       "    <tr>\n",
       "      <th>count</th>\n",
       "      <td>7079005.00</td>\n",
       "      <td>7079005.00</td>\n",
       "    </tr>\n",
       "    <tr>\n",
       "      <th>mean</th>\n",
       "      <td>9.89</td>\n",
       "      <td>802.29</td>\n",
       "    </tr>\n",
       "    <tr>\n",
       "      <th>std</th>\n",
       "      <td>44.62</td>\n",
       "      <td>599.27</td>\n",
       "    </tr>\n",
       "    <tr>\n",
       "      <th>min</th>\n",
       "      <td>-122.00</td>\n",
       "      <td>31.00</td>\n",
       "    </tr>\n",
       "    <tr>\n",
       "      <th>25%</th>\n",
       "      <td>-5.00</td>\n",
       "      <td>363.00</td>\n",
       "    </tr>\n",
       "    <tr>\n",
       "      <th>50%</th>\n",
       "      <td>-2.00</td>\n",
       "      <td>634.00</td>\n",
       "    </tr>\n",
       "    <tr>\n",
       "      <th>75%</th>\n",
       "      <td>7.00</td>\n",
       "      <td>1035.00</td>\n",
       "    </tr>\n",
       "    <tr>\n",
       "      <th>max</th>\n",
       "      <td>2710.00</td>\n",
       "      <td>4983.00</td>\n",
       "    </tr>\n",
       "  </tbody>\n",
       "</table>\n",
       "</div>"
      ],
      "text/plain": [
       "       Dep_delay   Distance\n",
       "count 7079005.00 7079005.00\n",
       "mean        9.89     802.29\n",
       "std        44.62     599.27\n",
       "min      -122.00      31.00\n",
       "25%        -5.00     363.00\n",
       "50%        -2.00     634.00\n",
       "75%         7.00    1035.00\n",
       "max      2710.00    4983.00"
      ]
     },
     "execution_count": 16,
     "metadata": {},
     "output_type": "execute_result"
    }
   ],
   "source": [
    "pd.set_option('display.float_format', '{:.2f}'.format)\n",
    "fi_encoded.describe()"
   ]
  },
  {
   "cell_type": "code",
   "execution_count": null,
   "id": "e25c2cf2",
   "metadata": {},
   "outputs": [],
   "source": [
    "#test for outliers in Dep delay\n",
    "#hicount = fi[fi['Dep_delay'] >750].shape[0]\n",
    "#lowcount = fi[fi['Dep_delay'] <-23].shape[0]\n",
    "#print(hicount)\n",
    "#print(lowcount)"
   ]
  },
  {
   "cell_type": "code",
   "execution_count": null,
   "id": "bde29f14",
   "metadata": {},
   "outputs": [],
   "source": [
    "#remove outliers from Dep_delay\n",
    "#new_fi = fi_encoded[(fi_encoded['Dep_delay']<=750) & (fi_encoded['Dep_delay']>=-23)]"
   ]
  },
  {
   "cell_type": "code",
   "execution_count": 17,
   "id": "7d36add1",
   "metadata": {},
   "outputs": [],
   "source": [
    "#remove delat outliers greater than 3 stds from mean\n",
    "mean_dep=fi_encoded['Dep_delay'].mean()\n",
    "std_dep=fi_encoded['Dep_delay'].std()\n",
    "cutoff=std_dep*3\n",
    "lower,upper = mean_dep-cutoff, mean_dep+cutoff\n",
    "fi2=fi_encoded[(fi_encoded['Dep_delay']<upper) & (fi_encoded['Dep_delay']>lower)]"
   ]
  },
  {
   "cell_type": "code",
   "execution_count": 18,
   "id": "6304d339",
   "metadata": {},
   "outputs": [],
   "source": [
    "#remove distance outliers greater than 3 stds from mean\n",
    "mean_dis=fi2['Distance'].mean()\n",
    "std_dis=fi2['Distance'].std()\n",
    "cutoff=std_dis*3\n",
    "lower,upper = mean_dis-cutoff, mean_dis+cutoff\n",
    "fi2=fi2[(fi2['Distance']<upper) & (fi2['Distance']>lower)]"
   ]
  },
  {
   "cell_type": "code",
   "execution_count": 19,
   "id": "be207b03",
   "metadata": {},
   "outputs": [
    {
     "data": {
      "text/html": [
       "<div>\n",
       "<style scoped>\n",
       "    .dataframe tbody tr th:only-of-type {\n",
       "        vertical-align: middle;\n",
       "    }\n",
       "\n",
       "    .dataframe tbody tr th {\n",
       "        vertical-align: top;\n",
       "    }\n",
       "\n",
       "    .dataframe thead th {\n",
       "        text-align: right;\n",
       "    }\n",
       "</style>\n",
       "<table border=\"1\" class=\"dataframe\">\n",
       "  <thead>\n",
       "    <tr style=\"text-align: right;\">\n",
       "      <th></th>\n",
       "      <th>Dep_delay</th>\n",
       "      <th>Distance</th>\n",
       "    </tr>\n",
       "  </thead>\n",
       "  <tbody>\n",
       "    <tr>\n",
       "      <th>count</th>\n",
       "      <td>6892229.00</td>\n",
       "      <td>6892229.00</td>\n",
       "    </tr>\n",
       "    <tr>\n",
       "      <th>mean</th>\n",
       "      <td>5.70</td>\n",
       "      <td>782.47</td>\n",
       "    </tr>\n",
       "    <tr>\n",
       "      <th>std</th>\n",
       "      <td>23.28</td>\n",
       "      <td>563.68</td>\n",
       "    </tr>\n",
       "    <tr>\n",
       "      <th>min</th>\n",
       "      <td>-122.00</td>\n",
       "      <td>31.00</td>\n",
       "    </tr>\n",
       "    <tr>\n",
       "      <th>25%</th>\n",
       "      <td>-6.00</td>\n",
       "      <td>361.00</td>\n",
       "    </tr>\n",
       "    <tr>\n",
       "      <th>50%</th>\n",
       "      <td>-2.00</td>\n",
       "      <td>630.00</td>\n",
       "    </tr>\n",
       "    <tr>\n",
       "      <th>75%</th>\n",
       "      <td>5.00</td>\n",
       "      <td>1023.00</td>\n",
       "    </tr>\n",
       "    <tr>\n",
       "      <th>max</th>\n",
       "      <td>143.00</td>\n",
       "      <td>2599.00</td>\n",
       "    </tr>\n",
       "  </tbody>\n",
       "</table>\n",
       "</div>"
      ],
      "text/plain": [
       "       Dep_delay   Distance\n",
       "count 6892229.00 6892229.00\n",
       "mean        5.70     782.47\n",
       "std        23.28     563.68\n",
       "min      -122.00      31.00\n",
       "25%        -6.00     361.00\n",
       "50%        -2.00     630.00\n",
       "75%         5.00    1023.00\n",
       "max       143.00    2599.00"
      ]
     },
     "execution_count": 19,
     "metadata": {},
     "output_type": "execute_result"
    }
   ],
   "source": [
    "fi2.describe()"
   ]
  },
  {
   "cell_type": "code",
   "execution_count": 20,
   "id": "5d7caf01",
   "metadata": {},
   "outputs": [
    {
     "data": {
      "image/png": "[encoded data removed]",
      "text/plain": [
       "<Figure size 640x480 with 2 Axes>"
      ]
     },
     "metadata": {},
     "output_type": "display_data"
    }
   ],
   "source": [
    "fi2.hist()\n",
    "plt.show()"
   ]
  },
  {
   "cell_type": "code",
   "execution_count": null,
   "id": "2eec0587",
   "metadata": {},
   "outputs": [],
   "source": [
    "#save/export encoded dataframe for later use\n",
    "fi2.to_csv(r'C:/Users/steve/Documents/springboard/Capstone2/data/fi_encoded.csv', index=False)"
   ]
  },
  {
   "cell_type": "markdown",
   "id": "dc8501d6",
   "metadata": {},
   "source": [
    "3.2 Split into train/test sets"
   ]
  },
  {
   "cell_type": "code",
   "execution_count": 29,
   "id": "30befa2a",
   "metadata": {},
   "outputs": [
    {
     "ename": "NameError",
     "evalue": "name 'fi2' is not defined",
     "output_type": "error",
     "traceback": [
      "\u001b[1;31m---------------------------------------------------------------------------\u001b[0m",
      "\u001b[1;31mNameError\u001b[0m                                 Traceback (most recent call last)",
      "Cell \u001b[1;32mIn[29], line 3\u001b[0m\n\u001b[0;32m      1\u001b[0m \u001b[38;5;66;03m#create train/tain sets\u001b[39;00m\n\u001b[0;32m      2\u001b[0m \u001b[38;5;28;01mfrom\u001b[39;00m \u001b[38;5;21;01msklearn\u001b[39;00m\u001b[38;5;21;01m.\u001b[39;00m\u001b[38;5;21;01mmodel_selection\u001b[39;00m \u001b[38;5;28;01mimport\u001b[39;00m train_test_split\n\u001b[1;32m----> 3\u001b[0m X \u001b[38;5;241m=\u001b[39m fi2\u001b[38;5;241m.\u001b[39mdrop(columns\u001b[38;5;241m=\u001b[39m(\u001b[38;5;124m'\u001b[39m\u001b[38;5;124mDep_delay\u001b[39m\u001b[38;5;124m'\u001b[39m))\n\u001b[0;32m      4\u001b[0m y\u001b[38;5;241m=\u001b[39m pd\u001b[38;5;241m.\u001b[39mDataFrame(fi2[\u001b[38;5;124m'\u001b[39m\u001b[38;5;124mDep_delay\u001b[39m\u001b[38;5;124m'\u001b[39m])\n\u001b[0;32m      6\u001b[0m X_train, X_test, y_train, y_test \u001b[38;5;241m=\u001b[39m train_test_split(X, y, test_size\u001b[38;5;241m=\u001b[39m\u001b[38;5;241m.2\u001b[39m, random_state\u001b[38;5;241m=\u001b[39m\u001b[38;5;241m42\u001b[39m)\n",
      "\u001b[1;31mNameError\u001b[0m: name 'fi2' is not defined"
     ]
    }
   ],
   "source": [
    "#create train/tain sets\n",
    "from sklearn.model_selection import train_test_split\n",
    "X = fi2.drop(columns=('Dep_delay'))\n",
    "y= pd.DataFrame(fi2['Dep_delay'])\n",
    "\n",
    "X_train, X_test, y_train, y_test = train_test_split(X, y, test_size=.2, random_state=42)"
   ]
  },
  {
   "cell_type": "markdown",
   "id": "9de66833",
   "metadata": {},
   "source": [
    "3.3 Transform data with Log transformation"
   ]
  },
  {
   "cell_type": "code",
   "execution_count": 22,
   "id": "2dbc7c88",
   "metadata": {},
   "outputs": [],
   "source": [
    "#import PowerTransformer\n",
    "from sklearn.preprocessing import PowerTransformer\n",
    "\n",
    "pt = PowerTransformer()\n",
    "\n",
    "#fit Distance column/feature from X_train and transform X_train/X_test\n",
    "pt.fit(X_train[['Distance']])\n",
    "X_train_scaled = pt.transform(X_train[['Distance']])\n",
    "X_test_scaled = pt.transform(X_test[['Distance']])"
   ]
  },
  {
   "cell_type": "code",
   "execution_count": 23,
   "id": "921ec4fe",
   "metadata": {},
   "outputs": [],
   "source": [
    "# Convert the scaled arrays back to DataFrames\n",
    "X_train_scaleddf = pd.DataFrame(X_train_scaled, columns=['Dist'])\n",
    "X_test_scaleddf = pd.DataFrame(X_test_scaled, columns=['Dist'])"
   ]
  },
  {
   "cell_type": "code",
   "execution_count": 24,
   "id": "51050bba",
   "metadata": {},
   "outputs": [],
   "source": [
    "#combine the transformed data back into the train/test dataframes\n",
    "X_train_scaled2 = pd.concat([X_train.reset_index(drop=True), X_train_scaleddf], axis=1)\n",
    "X_test_scaled2 = pd.concat([X_test.reset_index(drop=True), X_test_scaleddf], axis=1)"
   ]
  },
  {
   "cell_type": "code",
   "execution_count": 25,
   "id": "3d8d2cb7",
   "metadata": {},
   "outputs": [],
   "source": [
    "#remove the old/pretransformed distance column\n",
    "X_train_final = X_train_scaled2.drop(columns=['Distance'])\n",
    "X_test_final = X_test_scaled2.drop(columns=['Distance'])"
   ]
  },
  {
   "cell_type": "code",
   "execution_count": 26,
   "id": "cd4e6ea8",
   "metadata": {},
   "outputs": [
    {
     "data": {
      "text/html": [
       "<div>\n",
       "<style scoped>\n",
       "    .dataframe tbody tr th:only-of-type {\n",
       "        vertical-align: middle;\n",
       "    }\n",
       "\n",
       "    .dataframe tbody tr th {\n",
       "        vertical-align: top;\n",
       "    }\n",
       "\n",
       "    .dataframe thead th {\n",
       "        text-align: right;\n",
       "    }\n",
       "</style>\n",
       "<table border=\"1\" class=\"dataframe\">\n",
       "  <thead>\n",
       "    <tr style=\"text-align: right;\">\n",
       "      <th></th>\n",
       "      <th>Airline_AA</th>\n",
       "      <th>Airline_AS</th>\n",
       "      <th>Airline_B6</th>\n",
       "      <th>Airline_DL</th>\n",
       "      <th>Airline_EV</th>\n",
       "      <th>Airline_F9</th>\n",
       "      <th>Airline_G4</th>\n",
       "      <th>Airline_HA</th>\n",
       "      <th>Airline_MQ</th>\n",
       "      <th>Airline_NK</th>\n",
       "      <th>...</th>\n",
       "      <th>hour_depart_1900-01-01 21:00:00</th>\n",
       "      <th>hour_depart_1900-01-01 22:00:00</th>\n",
       "      <th>hour_depart_1900-01-01 23:00:00</th>\n",
       "      <th>day_Monday</th>\n",
       "      <th>day_Saturday</th>\n",
       "      <th>day_Sunday</th>\n",
       "      <th>day_Thursday</th>\n",
       "      <th>day_Tuesday</th>\n",
       "      <th>day_Wednesday</th>\n",
       "      <th>Dist</th>\n",
       "    </tr>\n",
       "  </thead>\n",
       "  <tbody>\n",
       "    <tr>\n",
       "      <th>0</th>\n",
       "      <td>False</td>\n",
       "      <td>False</td>\n",
       "      <td>False</td>\n",
       "      <td>False</td>\n",
       "      <td>False</td>\n",
       "      <td>False</td>\n",
       "      <td>False</td>\n",
       "      <td>False</td>\n",
       "      <td>False</td>\n",
       "      <td>False</td>\n",
       "      <td>...</td>\n",
       "      <td>False</td>\n",
       "      <td>False</td>\n",
       "      <td>False</td>\n",
       "      <td>False</td>\n",
       "      <td>True</td>\n",
       "      <td>False</td>\n",
       "      <td>False</td>\n",
       "      <td>False</td>\n",
       "      <td>False</td>\n",
       "      <td>0.26</td>\n",
       "    </tr>\n",
       "    <tr>\n",
       "      <th>1</th>\n",
       "      <td>False</td>\n",
       "      <td>True</td>\n",
       "      <td>False</td>\n",
       "      <td>False</td>\n",
       "      <td>False</td>\n",
       "      <td>False</td>\n",
       "      <td>False</td>\n",
       "      <td>False</td>\n",
       "      <td>False</td>\n",
       "      <td>False</td>\n",
       "      <td>...</td>\n",
       "      <td>False</td>\n",
       "      <td>False</td>\n",
       "      <td>False</td>\n",
       "      <td>False</td>\n",
       "      <td>False</td>\n",
       "      <td>True</td>\n",
       "      <td>False</td>\n",
       "      <td>False</td>\n",
       "      <td>False</td>\n",
       "      <td>2.12</td>\n",
       "    </tr>\n",
       "    <tr>\n",
       "      <th>2</th>\n",
       "      <td>False</td>\n",
       "      <td>True</td>\n",
       "      <td>False</td>\n",
       "      <td>False</td>\n",
       "      <td>False</td>\n",
       "      <td>False</td>\n",
       "      <td>False</td>\n",
       "      <td>False</td>\n",
       "      <td>False</td>\n",
       "      <td>False</td>\n",
       "      <td>...</td>\n",
       "      <td>False</td>\n",
       "      <td>False</td>\n",
       "      <td>False</td>\n",
       "      <td>False</td>\n",
       "      <td>False</td>\n",
       "      <td>False</td>\n",
       "      <td>False</td>\n",
       "      <td>False</td>\n",
       "      <td>True</td>\n",
       "      <td>0.11</td>\n",
       "    </tr>\n",
       "    <tr>\n",
       "      <th>3</th>\n",
       "      <td>False</td>\n",
       "      <td>False</td>\n",
       "      <td>False</td>\n",
       "      <td>False</td>\n",
       "      <td>False</td>\n",
       "      <td>False</td>\n",
       "      <td>False</td>\n",
       "      <td>False</td>\n",
       "      <td>False</td>\n",
       "      <td>True</td>\n",
       "      <td>...</td>\n",
       "      <td>False</td>\n",
       "      <td>False</td>\n",
       "      <td>False</td>\n",
       "      <td>False</td>\n",
       "      <td>True</td>\n",
       "      <td>False</td>\n",
       "      <td>False</td>\n",
       "      <td>False</td>\n",
       "      <td>False</td>\n",
       "      <td>1.84</td>\n",
       "    </tr>\n",
       "    <tr>\n",
       "      <th>4</th>\n",
       "      <td>False</td>\n",
       "      <td>False</td>\n",
       "      <td>False</td>\n",
       "      <td>False</td>\n",
       "      <td>False</td>\n",
       "      <td>False</td>\n",
       "      <td>False</td>\n",
       "      <td>True</td>\n",
       "      <td>False</td>\n",
       "      <td>False</td>\n",
       "      <td>...</td>\n",
       "      <td>True</td>\n",
       "      <td>False</td>\n",
       "      <td>False</td>\n",
       "      <td>True</td>\n",
       "      <td>False</td>\n",
       "      <td>False</td>\n",
       "      <td>False</td>\n",
       "      <td>False</td>\n",
       "      <td>False</td>\n",
       "      <td>-2.16</td>\n",
       "    </tr>\n",
       "  </tbody>\n",
       "</table>\n",
       "<p>5 rows × 166 columns</p>\n",
       "</div>"
      ],
      "text/plain": [
       "   Airline_AA  Airline_AS  Airline_B6  Airline_DL  Airline_EV  Airline_F9  \\\n",
       "0       False       False       False       False       False       False   \n",
       "1       False        True       False       False       False       False   \n",
       "2       False        True       False       False       False       False   \n",
       "3       False       False       False       False       False       False   \n",
       "4       False       False       False       False       False       False   \n",
       "\n",
       "   Airline_G4  Airline_HA  Airline_MQ  Airline_NK  ...  \\\n",
       "0       False       False       False       False  ...   \n",
       "1       False       False       False       False  ...   \n",
       "2       False       False       False       False  ...   \n",
       "3       False       False       False        True  ...   \n",
       "4       False        True       False       False  ...   \n",
       "\n",
       "   hour_depart_1900-01-01 21:00:00  hour_depart_1900-01-01 22:00:00  \\\n",
       "0                            False                            False   \n",
       "1                            False                            False   \n",
       "2                            False                            False   \n",
       "3                            False                            False   \n",
       "4                             True                            False   \n",
       "\n",
       "   hour_depart_1900-01-01 23:00:00  day_Monday  day_Saturday  day_Sunday  \\\n",
       "0                            False       False          True       False   \n",
       "1                            False       False         False        True   \n",
       "2                            False       False         False       False   \n",
       "3                            False       False          True       False   \n",
       "4                            False        True         False       False   \n",
       "\n",
       "   day_Thursday  day_Tuesday  day_Wednesday  Dist  \n",
       "0         False        False          False  0.26  \n",
       "1         False        False          False  2.12  \n",
       "2         False        False           True  0.11  \n",
       "3         False        False          False  1.84  \n",
       "4         False        False          False -2.16  \n",
       "\n",
       "[5 rows x 166 columns]"
      ]
     },
     "execution_count": 26,
     "metadata": {},
     "output_type": "execute_result"
    }
   ],
   "source": [
    "X_train_final.head()"
   ]
  },
  {
   "cell_type": "code",
   "execution_count": null,
   "id": "9c4f9dfe",
   "metadata": {},
   "outputs": [],
   "source": [
    "#initialize PowerTransformer\n",
    "#pt = PowerTransformer()\n",
    "\n",
    "#fit column/feature from y_train and transform y_train/y_test\n",
    "#pt.fit(y_train)\n",
    "#y_train_scaled = pt.transform(y_train)\n",
    "#y_test_scaled = pt.transform(y_test)"
   ]
  },
  {
   "cell_type": "code",
   "execution_count": null,
   "id": "365e9fbc",
   "metadata": {},
   "outputs": [],
   "source": [
    "#convert to dataframe\n",
    "#y_train_final = pd.DataFrame(y_train_scaled, columns=['Delay'])\n",
    "#y_test_final = pd.DataFrame(y_test_scaled, columns=['Delay'])"
   ]
  },
  {
   "cell_type": "code",
   "execution_count": 27,
   "id": "226fecb7",
   "metadata": {},
   "outputs": [],
   "source": [
    "#save/export transformed train/test sets for later use\n",
    "X_train_final.to_csv(r'C:/Users/steve/Documents/springboard/Capstone2/data/X_train.csv', index=False)"
   ]
  },
  {
   "cell_type": "code",
   "execution_count": 28,
   "id": "6538b3c5",
   "metadata": {},
   "outputs": [],
   "source": [
    "X_test_final.to_csv(r'C:/Users/steve/Documents/springboard/Capstone2/data/X_test.csv', index=False)"
   ]
  },
  {
   "cell_type": "code",
   "execution_count": null,
   "id": "942f9394",
   "metadata": {},
   "outputs": [],
   "source": [
    "#y_train_final.to_csv(r'C:/Users/steve/Documents/springboard/Capstone2/data/y_train.csv', index=False)"
   ]
  },
  {
   "cell_type": "code",
   "execution_count": null,
   "id": "9da2aa45",
   "metadata": {},
   "outputs": [],
   "source": [
    "#y_test_final.to_csv(r'C:/Users/steve/Documents/springboard/Capstone2/data/y_test.csv', index=False)"
   ]
  },
  {
   "cell_type": "code",
   "execution_count": 29,
   "id": "b1df9d33",
   "metadata": {},
   "outputs": [],
   "source": [
    "y_train.to_csv(r'C:/Users/steve/Documents/springboard/Capstone2/data/y_train_unscaled.csv', index=False)"
   ]
  },
  {
   "cell_type": "code",
   "execution_count": 30,
   "id": "df091647",
   "metadata": {},
   "outputs": [],
   "source": [
    "y_test.to_csv(r'C:/Users/steve/Documents/springboard/Capstone2/data/y_test_unscaled.csv', index=False)"
   ]
  },
  {
   "cell_type": "code",
   "execution_count": null,
   "id": "b6c75e8e",
   "metadata": {},
   "outputs": [],
   "source": []
  },
  {
   "cell_type": "code",
   "execution_count": 12,
   "id": "dcdcefb4",
   "metadata": {},
   "outputs": [
    {
     "data": {
      "text/plain": [
       "Date                      365\n",
       "Airline                    18\n",
       "Flight_number            7113\n",
       "Origin                    358\n",
       "Dest                      358\n",
       "Planned_depart_time      1369\n",
       "Actual_depart_time       1440\n",
       "Dep_delay                1481\n",
       "Cancelled                   2\n",
       "Distance                 1547\n",
       "Airline_Name               18\n",
       "Origin_Name               340\n",
       "Origin_State               55\n",
       "Dest_Name                 340\n",
       "Dest_State                 55\n",
       "Delayed_or_Cancelled        2\n",
       "hour_depart              1369\n",
       "fnstring                 7113\n",
       "airflightnumber         30018\n",
       "dcn                         2\n",
       "dtype: int64"
      ]
     },
     "execution_count": 12,
     "metadata": {},
     "output_type": "execute_result"
    }
   ],
   "source": [
    "df.nunique()"
   ]
  },
  {
   "cell_type": "code",
   "execution_count": 54,
   "id": "1fb26c3e",
   "metadata": {},
   "outputs": [],
   "source": [
    "#remove unnecessary columns\n",
    "catdf=df.drop(columns=[ 'Airline_Name', 'Origin_Name', 'Dest_Name', 'Flight_number', \\\n",
    "                    'Cancelled', 'Delayed_or_Cancelled', \\\n",
    "                    'Planned_depart_time', 'Actual_depart_time','Origin_State','Dest_State', 'fnstring', 'dcn'])"
   ]
  },
  {
   "cell_type": "code",
   "execution_count": 55,
   "id": "84f73e94",
   "metadata": {},
   "outputs": [
    {
     "data": {
      "text/plain": [
       "Date                 365\n",
       "Airline               18\n",
       "Origin               358\n",
       "Dest                 358\n",
       "Dep_delay           1481\n",
       "Distance            1547\n",
       "hour_depart         1369\n",
       "airflightnumber    30018\n",
       "day                    7\n",
       "month                 12\n",
       "dtype: int64"
      ]
     },
     "execution_count": 55,
     "metadata": {},
     "output_type": "execute_result"
    }
   ],
   "source": [
    "catdf.nunique()"
   ]
  },
  {
   "cell_type": "code",
   "execution_count": 56,
   "id": "1d394d97",
   "metadata": {},
   "outputs": [
    {
     "data": {
      "text/html": [
       "<div>\n",
       "<style scoped>\n",
       "    .dataframe tbody tr th:only-of-type {\n",
       "        vertical-align: middle;\n",
       "    }\n",
       "\n",
       "    .dataframe tbody tr th {\n",
       "        vertical-align: top;\n",
       "    }\n",
       "\n",
       "    .dataframe thead th {\n",
       "        text-align: right;\n",
       "    }\n",
       "</style>\n",
       "<table border=\"1\" class=\"dataframe\">\n",
       "  <thead>\n",
       "    <tr style=\"text-align: right;\">\n",
       "      <th></th>\n",
       "      <th>Date</th>\n",
       "      <th>Airline</th>\n",
       "      <th>Origin</th>\n",
       "      <th>Dest</th>\n",
       "      <th>Dep_delay</th>\n",
       "      <th>Distance</th>\n",
       "      <th>hour_depart</th>\n",
       "      <th>airflightnumber</th>\n",
       "      <th>day</th>\n",
       "      <th>month</th>\n",
       "    </tr>\n",
       "  </thead>\n",
       "  <tbody>\n",
       "    <tr>\n",
       "      <th>0</th>\n",
       "      <td>2018-01-01</td>\n",
       "      <td>UA</td>\n",
       "      <td>EWR</td>\n",
       "      <td>DEN</td>\n",
       "      <td>-5.00</td>\n",
       "      <td>1605.00</td>\n",
       "      <td>1900-01-01 15:17:00</td>\n",
       "      <td>UA2429</td>\n",
       "      <td>Monday</td>\n",
       "      <td>1</td>\n",
       "    </tr>\n",
       "    <tr>\n",
       "      <th>1</th>\n",
       "      <td>2018-01-01</td>\n",
       "      <td>UA</td>\n",
       "      <td>LAS</td>\n",
       "      <td>SFO</td>\n",
       "      <td>-8.00</td>\n",
       "      <td>414.00</td>\n",
       "      <td>1900-01-01 11:15:00</td>\n",
       "      <td>UA2427</td>\n",
       "      <td>Monday</td>\n",
       "      <td>1</td>\n",
       "    </tr>\n",
       "    <tr>\n",
       "      <th>2</th>\n",
       "      <td>2018-01-01</td>\n",
       "      <td>UA</td>\n",
       "      <td>SNA</td>\n",
       "      <td>DEN</td>\n",
       "      <td>-5.00</td>\n",
       "      <td>846.00</td>\n",
       "      <td>1900-01-01 13:35:00</td>\n",
       "      <td>UA2426</td>\n",
       "      <td>Monday</td>\n",
       "      <td>1</td>\n",
       "    </tr>\n",
       "    <tr>\n",
       "      <th>3</th>\n",
       "      <td>2018-01-01</td>\n",
       "      <td>UA</td>\n",
       "      <td>RSW</td>\n",
       "      <td>ORD</td>\n",
       "      <td>6.00</td>\n",
       "      <td>1120.00</td>\n",
       "      <td>1900-01-01 15:46:00</td>\n",
       "      <td>UA2425</td>\n",
       "      <td>Monday</td>\n",
       "      <td>1</td>\n",
       "    </tr>\n",
       "    <tr>\n",
       "      <th>4</th>\n",
       "      <td>2018-01-01</td>\n",
       "      <td>UA</td>\n",
       "      <td>ORD</td>\n",
       "      <td>ALB</td>\n",
       "      <td>20.00</td>\n",
       "      <td>723.00</td>\n",
       "      <td>1900-01-01 06:30:00</td>\n",
       "      <td>UA2424</td>\n",
       "      <td>Monday</td>\n",
       "      <td>1</td>\n",
       "    </tr>\n",
       "  </tbody>\n",
       "</table>\n",
       "</div>"
      ],
      "text/plain": [
       "         Date Airline Origin Dest  Dep_delay  Distance          hour_depart  \\\n",
       "0  2018-01-01      UA    EWR  DEN      -5.00   1605.00  1900-01-01 15:17:00   \n",
       "1  2018-01-01      UA    LAS  SFO      -8.00    414.00  1900-01-01 11:15:00   \n",
       "2  2018-01-01      UA    SNA  DEN      -5.00    846.00  1900-01-01 13:35:00   \n",
       "3  2018-01-01      UA    RSW  ORD       6.00   1120.00  1900-01-01 15:46:00   \n",
       "4  2018-01-01      UA    ORD  ALB      20.00    723.00  1900-01-01 06:30:00   \n",
       "\n",
       "  airflightnumber     day  month  \n",
       "0          UA2429  Monday      1  \n",
       "1          UA2427  Monday      1  \n",
       "2          UA2426  Monday      1  \n",
       "3          UA2425  Monday      1  \n",
       "4          UA2424  Monday      1  "
      ]
     },
     "execution_count": 56,
     "metadata": {},
     "output_type": "execute_result"
    }
   ],
   "source": [
    "catdf.head()"
   ]
  },
  {
   "cell_type": "code",
   "execution_count": 57,
   "id": "e243077c",
   "metadata": {},
   "outputs": [],
   "source": [
    "catdf['hour_depart'] = catdf['hour_depart'].str.replace(':', '')"
   ]
  },
  {
   "cell_type": "code",
   "execution_count": 58,
   "id": "cfecd55e",
   "metadata": {},
   "outputs": [],
   "source": [
    "catdf['hour_depart'] = catdf['hour_depart'].str.replace('1900-01-01 ', '')"
   ]
  },
  {
   "cell_type": "code",
   "execution_count": 59,
   "id": "622715fb",
   "metadata": {},
   "outputs": [],
   "source": [
    "catdf['hour_depart'] = catdf['hour_depart'].str.replace('1900-01-02 ', '')"
   ]
  },
  {
   "cell_type": "code",
   "execution_count": 60,
   "id": "d818b08c",
   "metadata": {},
   "outputs": [],
   "source": [
    "catdf['hour_depart'] = catdf['hour_depart'].str.slice(0, -2)"
   ]
  },
  {
   "cell_type": "code",
   "execution_count": 61,
   "id": "6324e3d5",
   "metadata": {},
   "outputs": [],
   "source": [
    "catdf['hour_depart'] = catdf['hour_depart'].astype(int)"
   ]
  },
  {
   "cell_type": "code",
   "execution_count": null,
   "id": "19810533",
   "metadata": {},
   "outputs": [],
   "source": []
  },
  {
   "cell_type": "code",
   "execution_count": 62,
   "id": "b3e812ce",
   "metadata": {},
   "outputs": [],
   "source": [
    "mean_dep1=catdf['Dep_delay'].mean()\n",
    "std_dep1=catdf['Dep_delay'].std()\n",
    "cutoff=std_dep1*3\n",
    "lower,upper = mean_dep1-cutoff, mean_dep1+cutoff\n",
    "catfi1=catdf[(catdf['Dep_delay']<upper) & (catdf['Dep_delay']>lower)]"
   ]
  },
  {
   "cell_type": "code",
   "execution_count": 63,
   "id": "131f0990",
   "metadata": {},
   "outputs": [],
   "source": [
    "#remove distance outliers greater than 3 stds from mean\n",
    "mean_dis1=catfi1['Distance'].mean()\n",
    "std_dis1=catfi1['Distance'].std()\n",
    "cutoff=std_dis1*3\n",
    "lower,upper = mean_dis1-cutoff, mean_dis1+cutoff\n",
    "catfi1=catfi1[(catfi1['Distance']<upper) & (catfi1['Distance']>lower)]"
   ]
  },
  {
   "cell_type": "code",
   "execution_count": 27,
   "id": "03cba6b9",
   "metadata": {},
   "outputs": [
    {
     "data": {
      "text/plain": [
       "array([[<Axes: title={'center': 'Flight_number'}>,\n",
       "        <Axes: title={'center': 'Dep_delay'}>],\n",
       "       [<Axes: title={'center': 'Distance'}>,\n",
       "        <Axes: title={'center': 'hour_depart'}>]], dtype=object)"
      ]
     },
     "execution_count": 27,
     "metadata": {},
     "output_type": "execute_result"
    },
    {
     "data": {
      "image/png": "[encoded data removed]",
      "text/plain": [
       "<Figure size 640x480 with 4 Axes>"
      ]
     },
     "metadata": {},
     "output_type": "display_data"
    }
   ],
   "source": [
    "catfi1.hist()"
   ]
  },
  {
   "cell_type": "code",
   "execution_count": 64,
   "id": "64d54f8a",
   "metadata": {},
   "outputs": [
    {
     "data": {
      "text/html": [
       "<div>\n",
       "<style scoped>\n",
       "    .dataframe tbody tr th:only-of-type {\n",
       "        vertical-align: middle;\n",
       "    }\n",
       "\n",
       "    .dataframe tbody tr th {\n",
       "        vertical-align: top;\n",
       "    }\n",
       "\n",
       "    .dataframe thead th {\n",
       "        text-align: right;\n",
       "    }\n",
       "</style>\n",
       "<table border=\"1\" class=\"dataframe\">\n",
       "  <thead>\n",
       "    <tr style=\"text-align: right;\">\n",
       "      <th></th>\n",
       "      <th>Dep_delay</th>\n",
       "      <th>Distance</th>\n",
       "      <th>hour_depart</th>\n",
       "      <th>month</th>\n",
       "    </tr>\n",
       "  </thead>\n",
       "  <tbody>\n",
       "    <tr>\n",
       "      <th>count</th>\n",
       "      <td>6892229.00</td>\n",
       "      <td>6892229.00</td>\n",
       "      <td>6892229.00</td>\n",
       "      <td>6892229.00</td>\n",
       "    </tr>\n",
       "    <tr>\n",
       "      <th>mean</th>\n",
       "      <td>5.70</td>\n",
       "      <td>782.47</td>\n",
       "      <td>1325.34</td>\n",
       "      <td>6.58</td>\n",
       "    </tr>\n",
       "    <tr>\n",
       "      <th>std</th>\n",
       "      <td>23.28</td>\n",
       "      <td>563.68</td>\n",
       "      <td>490.62</td>\n",
       "      <td>3.40</td>\n",
       "    </tr>\n",
       "    <tr>\n",
       "      <th>min</th>\n",
       "      <td>-122.00</td>\n",
       "      <td>31.00</td>\n",
       "      <td>1.00</td>\n",
       "      <td>1.00</td>\n",
       "    </tr>\n",
       "    <tr>\n",
       "      <th>25%</th>\n",
       "      <td>-6.00</td>\n",
       "      <td>361.00</td>\n",
       "      <td>910.00</td>\n",
       "      <td>4.00</td>\n",
       "    </tr>\n",
       "    <tr>\n",
       "      <th>50%</th>\n",
       "      <td>-2.00</td>\n",
       "      <td>630.00</td>\n",
       "      <td>1315.00</td>\n",
       "      <td>7.00</td>\n",
       "    </tr>\n",
       "    <tr>\n",
       "      <th>75%</th>\n",
       "      <td>5.00</td>\n",
       "      <td>1023.00</td>\n",
       "      <td>1732.00</td>\n",
       "      <td>10.00</td>\n",
       "    </tr>\n",
       "    <tr>\n",
       "      <th>max</th>\n",
       "      <td>143.00</td>\n",
       "      <td>2599.00</td>\n",
       "      <td>2359.00</td>\n",
       "      <td>12.00</td>\n",
       "    </tr>\n",
       "  </tbody>\n",
       "</table>\n",
       "</div>"
      ],
      "text/plain": [
       "       Dep_delay   Distance  hour_depart      month\n",
       "count 6892229.00 6892229.00   6892229.00 6892229.00\n",
       "mean        5.70     782.47      1325.34       6.58\n",
       "std        23.28     563.68       490.62       3.40\n",
       "min      -122.00      31.00         1.00       1.00\n",
       "25%        -6.00     361.00       910.00       4.00\n",
       "50%        -2.00     630.00      1315.00       7.00\n",
       "75%         5.00    1023.00      1732.00      10.00\n",
       "max       143.00    2599.00      2359.00      12.00"
      ]
     },
     "execution_count": 64,
     "metadata": {},
     "output_type": "execute_result"
    }
   ],
   "source": [
    "pd.set_option('display.float_format', '{:.2f}'.format)\n",
    "catfi1.describe()"
   ]
  },
  {
   "cell_type": "code",
   "execution_count": 44,
   "id": "cddb01a8",
   "metadata": {},
   "outputs": [
    {
     "data": {
      "text/html": [
       "<div>\n",
       "<style scoped>\n",
       "    .dataframe tbody tr th:only-of-type {\n",
       "        vertical-align: middle;\n",
       "    }\n",
       "\n",
       "    .dataframe tbody tr th {\n",
       "        vertical-align: top;\n",
       "    }\n",
       "\n",
       "    .dataframe thead th {\n",
       "        text-align: right;\n",
       "    }\n",
       "</style>\n",
       "<table border=\"1\" class=\"dataframe\">\n",
       "  <thead>\n",
       "    <tr style=\"text-align: right;\">\n",
       "      <th></th>\n",
       "      <th>Date</th>\n",
       "      <th>Airline</th>\n",
       "      <th>Origin</th>\n",
       "      <th>Dest</th>\n",
       "      <th>Dep_delay</th>\n",
       "      <th>Distance</th>\n",
       "      <th>hour_depart</th>\n",
       "      <th>airflightnumber</th>\n",
       "    </tr>\n",
       "  </thead>\n",
       "  <tbody>\n",
       "    <tr>\n",
       "      <th>0</th>\n",
       "      <td>2018-01-01</td>\n",
       "      <td>UA</td>\n",
       "      <td>EWR</td>\n",
       "      <td>DEN</td>\n",
       "      <td>-5.0</td>\n",
       "      <td>1605.0</td>\n",
       "      <td>1517</td>\n",
       "      <td>UA2429</td>\n",
       "    </tr>\n",
       "    <tr>\n",
       "      <th>1</th>\n",
       "      <td>2018-01-01</td>\n",
       "      <td>UA</td>\n",
       "      <td>LAS</td>\n",
       "      <td>SFO</td>\n",
       "      <td>-8.0</td>\n",
       "      <td>414.0</td>\n",
       "      <td>1115</td>\n",
       "      <td>UA2427</td>\n",
       "    </tr>\n",
       "    <tr>\n",
       "      <th>2</th>\n",
       "      <td>2018-01-01</td>\n",
       "      <td>UA</td>\n",
       "      <td>SNA</td>\n",
       "      <td>DEN</td>\n",
       "      <td>-5.0</td>\n",
       "      <td>846.0</td>\n",
       "      <td>1335</td>\n",
       "      <td>UA2426</td>\n",
       "    </tr>\n",
       "    <tr>\n",
       "      <th>3</th>\n",
       "      <td>2018-01-01</td>\n",
       "      <td>UA</td>\n",
       "      <td>RSW</td>\n",
       "      <td>ORD</td>\n",
       "      <td>6.0</td>\n",
       "      <td>1120.0</td>\n",
       "      <td>1546</td>\n",
       "      <td>UA2425</td>\n",
       "    </tr>\n",
       "    <tr>\n",
       "      <th>4</th>\n",
       "      <td>2018-01-01</td>\n",
       "      <td>UA</td>\n",
       "      <td>ORD</td>\n",
       "      <td>ALB</td>\n",
       "      <td>20.0</td>\n",
       "      <td>723.0</td>\n",
       "      <td>630</td>\n",
       "      <td>UA2424</td>\n",
       "    </tr>\n",
       "  </tbody>\n",
       "</table>\n",
       "</div>"
      ],
      "text/plain": [
       "         Date Airline Origin Dest  Dep_delay  Distance  hour_depart  \\\n",
       "0  2018-01-01      UA    EWR  DEN       -5.0    1605.0         1517   \n",
       "1  2018-01-01      UA    LAS  SFO       -8.0     414.0         1115   \n",
       "2  2018-01-01      UA    SNA  DEN       -5.0     846.0         1335   \n",
       "3  2018-01-01      UA    RSW  ORD        6.0    1120.0         1546   \n",
       "4  2018-01-01      UA    ORD  ALB       20.0     723.0          630   \n",
       "\n",
       "  airflightnumber  \n",
       "0          UA2429  \n",
       "1          UA2427  \n",
       "2          UA2426  \n",
       "3          UA2425  \n",
       "4          UA2424  "
      ]
     },
     "execution_count": 44,
     "metadata": {},
     "output_type": "execute_result"
    }
   ],
   "source": [
    "catfi1.head()"
   ]
  },
  {
   "cell_type": "code",
   "execution_count": 68,
   "id": "ba6bc2bd",
   "metadata": {},
   "outputs": [],
   "source": [
    "from sklearn.model_selection import train_test_split\n",
    "\n",
    "X2 = catfi1.drop(columns=('Dep_delay'))\n",
    "y2= pd.DataFrame(catfi1['Dep_delay'])\n",
    "\n",
    "X_train2, X_test2, y_train2, y_test2 = train_test_split(X2, y2, test_size=.2, random_state=42)"
   ]
  },
  {
   "cell_type": "code",
   "execution_count": 128,
   "id": "c9c05be5",
   "metadata": {},
   "outputs": [],
   "source": [
    "#import PowerTransformer\n",
    "from sklearn.preprocessing import PowerTransformer\n",
    "\n",
    "pt = PowerTransformer()\n",
    "\n",
    "#fit Distance column/feature from X_train and transform X_train/X_test\n",
    "pt.fit(X_train[['Distance']])\n",
    "X_train2_scaled = pt.transform(X_train2[['Distance']])\n",
    "X_test2_scaled = pt.transform(X_test2[['Distance']])"
   ]
  },
  {
   "cell_type": "code",
   "execution_count": 129,
   "id": "1e250d1f",
   "metadata": {},
   "outputs": [],
   "source": [
    "# Convert the scaled arrays back to DataFrames\n",
    "X_train2_scaleddf = pd.DataFrame(X_train2_scaled, columns=['Dist'])\n",
    "X_test2_scaleddf = pd.DataFrame(X_test2_scaled, columns=['Dist'])"
   ]
  },
  {
   "cell_type": "code",
   "execution_count": 130,
   "id": "7850a6dd",
   "metadata": {},
   "outputs": [],
   "source": [
    "#combine the transformed data back into the train/test dataframes\n",
    "X_train2_scaled2 = pd.concat([X_train2.reset_index(drop=True), X_train2_scaleddf], axis=1)\n",
    "X_test2_scaled2 = pd.concat([X_test2.reset_index(drop=True), X_test2_scaleddf], axis=1)"
   ]
  },
  {
   "cell_type": "code",
   "execution_count": 131,
   "id": "db9bbf59",
   "metadata": {},
   "outputs": [],
   "source": [
    "#remove the old/pretransformed distance column\n",
    "X_train2_final = X_train2_scaled2.drop(columns=['Distance'])\n",
    "X_test2_final = X_test2_scaled2.drop(columns=['Distance'])"
   ]
  },
  {
   "cell_type": "code",
   "execution_count": 133,
   "id": "68b8fbe7",
   "metadata": {},
   "outputs": [
    {
     "data": {
      "image/png": "[encoded data removed]",
      "text/plain": [
       "<Figure size 640x480 with 2 Axes>"
      ]
     },
     "metadata": {},
     "output_type": "display_data"
    }
   ],
   "source": [
    "X_train2_final.hist()\n",
    "plt.show()"
   ]
  },
  {
   "cell_type": "code",
   "execution_count": 69,
   "id": "bfcbc8b5",
   "metadata": {},
   "outputs": [],
   "source": [
    "X_train2.to_csv(r'C:/Users/steve/Documents/springboard/Capstone2/data/X_train_cat.csv', index=False)"
   ]
  },
  {
   "cell_type": "code",
   "execution_count": 70,
   "id": "8c5ecdd4",
   "metadata": {},
   "outputs": [],
   "source": [
    "X_test2.to_csv(r'C:/Users/steve/Documents/springboard/Capstone2/data/X_test_cat.csv', index=False)"
   ]
  },
  {
   "cell_type": "code",
   "execution_count": 71,
   "id": "4845cfc7",
   "metadata": {},
   "outputs": [],
   "source": [
    "y_train2.to_csv(r'C:/Users/steve/Documents/springboard/Capstone2/data/y_train_cat.csv', index=False)"
   ]
  },
  {
   "cell_type": "code",
   "execution_count": 72,
   "id": "1277ee1a",
   "metadata": {},
   "outputs": [],
   "source": [
    "y_test2.to_csv(r'C:/Users/steve/Documents/springboard/Capstone2/data/y_test_cat.csv', index=False)"
   ]
  },
  {
   "cell_type": "code",
   "execution_count": 111,
   "id": "5d2b8e11",
   "metadata": {},
   "outputs": [
    {
     "name": "stdout",
     "output_type": "stream",
     "text": [
      "(5513433, 9)\n",
      "(5513433, 1)\n",
      "(1378359, 9)\n",
      "(1378359, 1)\n"
     ]
    }
   ],
   "source": [
    "print(X_train2.shape)\n",
    "print(y_train2.shape)\n",
    "print(X_test2.shape)\n",
    "print(y_test2.shape)"
   ]
  },
  {
   "cell_type": "code",
   "execution_count": null,
   "id": "e74b6a6f",
   "metadata": {},
   "outputs": [],
   "source": []
  },
  {
   "cell_type": "code",
   "execution_count": 65,
   "id": "b6431dba",
   "metadata": {},
   "outputs": [],
   "source": [
    "catfi1 = catfi1[catfi1['Dep_delay']>=-30]"
   ]
  },
  {
   "cell_type": "code",
   "execution_count": 66,
   "id": "725a9343",
   "metadata": {},
   "outputs": [
    {
     "name": "stdout",
     "output_type": "stream",
     "text": [
      "23340\n",
      "0\n"
     ]
    }
   ],
   "source": [
    "#test for outliers in Dep delay\n",
    "hicount = catfi1[catfi1['Dep_delay'] >130].shape[0]\n",
    "lowcount = catfi1[catfi1['Dep_delay'] <-35].shape[0]\n",
    "print(hicount)\n",
    "print(lowcount)"
   ]
  },
  {
   "cell_type": "code",
   "execution_count": 67,
   "id": "7d90eff4",
   "metadata": {},
   "outputs": [
    {
     "data": {
      "text/html": [
       "<div>\n",
       "<style scoped>\n",
       "    .dataframe tbody tr th:only-of-type {\n",
       "        vertical-align: middle;\n",
       "    }\n",
       "\n",
       "    .dataframe tbody tr th {\n",
       "        vertical-align: top;\n",
       "    }\n",
       "\n",
       "    .dataframe thead th {\n",
       "        text-align: right;\n",
       "    }\n",
       "</style>\n",
       "<table border=\"1\" class=\"dataframe\">\n",
       "  <thead>\n",
       "    <tr style=\"text-align: right;\">\n",
       "      <th></th>\n",
       "      <th>Dep_delay</th>\n",
       "      <th>Distance</th>\n",
       "      <th>hour_depart</th>\n",
       "      <th>month</th>\n",
       "    </tr>\n",
       "  </thead>\n",
       "  <tbody>\n",
       "    <tr>\n",
       "      <th>count</th>\n",
       "      <td>6891792.00</td>\n",
       "      <td>6891792.00</td>\n",
       "      <td>6891792.00</td>\n",
       "      <td>6891792.00</td>\n",
       "    </tr>\n",
       "    <tr>\n",
       "      <th>mean</th>\n",
       "      <td>5.71</td>\n",
       "      <td>782.50</td>\n",
       "      <td>1325.31</td>\n",
       "      <td>6.58</td>\n",
       "    </tr>\n",
       "    <tr>\n",
       "      <th>std</th>\n",
       "      <td>23.28</td>\n",
       "      <td>563.68</td>\n",
       "      <td>490.61</td>\n",
       "      <td>3.40</td>\n",
       "    </tr>\n",
       "    <tr>\n",
       "      <th>min</th>\n",
       "      <td>-30.00</td>\n",
       "      <td>31.00</td>\n",
       "      <td>1.00</td>\n",
       "      <td>1.00</td>\n",
       "    </tr>\n",
       "    <tr>\n",
       "      <th>25%</th>\n",
       "      <td>-6.00</td>\n",
       "      <td>361.00</td>\n",
       "      <td>910.00</td>\n",
       "      <td>4.00</td>\n",
       "    </tr>\n",
       "    <tr>\n",
       "      <th>50%</th>\n",
       "      <td>-2.00</td>\n",
       "      <td>630.00</td>\n",
       "      <td>1315.00</td>\n",
       "      <td>7.00</td>\n",
       "    </tr>\n",
       "    <tr>\n",
       "      <th>75%</th>\n",
       "      <td>5.00</td>\n",
       "      <td>1023.00</td>\n",
       "      <td>1732.00</td>\n",
       "      <td>10.00</td>\n",
       "    </tr>\n",
       "    <tr>\n",
       "      <th>max</th>\n",
       "      <td>143.00</td>\n",
       "      <td>2599.00</td>\n",
       "      <td>2359.00</td>\n",
       "      <td>12.00</td>\n",
       "    </tr>\n",
       "  </tbody>\n",
       "</table>\n",
       "</div>"
      ],
      "text/plain": [
       "       Dep_delay   Distance  hour_depart      month\n",
       "count 6891792.00 6891792.00   6891792.00 6891792.00\n",
       "mean        5.71     782.50      1325.31       6.58\n",
       "std        23.28     563.68       490.61       3.40\n",
       "min       -30.00      31.00         1.00       1.00\n",
       "25%        -6.00     361.00       910.00       4.00\n",
       "50%        -2.00     630.00      1315.00       7.00\n",
       "75%         5.00    1023.00      1732.00      10.00\n",
       "max       143.00    2599.00      2359.00      12.00"
      ]
     },
     "execution_count": 67,
     "metadata": {},
     "output_type": "execute_result"
    }
   ],
   "source": [
    "catfi1.describe()"
   ]
  },
  {
   "cell_type": "code",
   "execution_count": null,
   "id": "265c6991",
   "metadata": {},
   "outputs": [],
   "source": []
  }
 ],
 "metadata": {
  "kernelspec": {
   "display_name": "Python 3 (ipykernel)",
   "language": "python",
   "name": "python3"
  },
  "language_info": {
   "codemirror_mode": {
    "name": "ipython",
    "version": 3
   },
   "file_extension": ".py",
   "mimetype": "text/x-python",
   "name": "python",
   "nbconvert_exporter": "python",
   "pygments_lexer": "ipython3",
   "version": "3.12.7"
  }
 },
 "nbformat": 4,
 "nbformat_minor": 5
}
